{
  "nbformat": 4,
  "nbformat_minor": 0,
  "metadata": {
    "colab": {
      "provenance": [],
      "collapsed_sections": [
        "THOLRG8AhUT-"
      ],
      "toc_visible": true
    },
    "kernelspec": {
      "name": "python3",
      "display_name": "Python 3"
    },
    "language_info": {
      "name": "python"
    }
  },
  "cells": [
    {
      "cell_type": "markdown",
      "source": [
        "# 라이브러리 다운로드"
      ],
      "metadata": {
        "id": "YWjMyXlEN-Kg"
      }
    },
    {
      "cell_type": "code",
      "source": [
        "import pandas as pd\n",
        "import numpy as np\n",
        "import json\n",
        "import matplotlib.pyplot as plt"
      ],
      "metadata": {
        "id": "qLZEOXHGJZzS"
      },
      "execution_count": null,
      "outputs": []
    },
    {
      "cell_type": "code",
      "source": [
        "# 구글드라이브와 연결\n",
        "from google.colab import drive\n",
        "drive.mount('/content/drive')"
      ],
      "metadata": {
        "colab": {
          "base_uri": "https://localhost:8080/"
        },
        "id": "x9eW1O-lDXh8",
        "outputId": "6536cd92-f5f8-42a8-8299-2b96c04d7118"
      },
      "execution_count": null,
      "outputs": [
        {
          "output_type": "stream",
          "name": "stdout",
          "text": [
            "Mounted at /content/drive\n"
          ]
        }
      ]
    },
    {
      "cell_type": "markdown",
      "source": [
        "# 데이터 준비"
      ],
      "metadata": {
        "id": "q1hufXcra2kv"
      }
    },
    {
      "cell_type": "code",
      "execution_count": null,
      "metadata": {
        "id": "RpJv8BMsfP6v"
      },
      "outputs": [],
      "source": [
        "# 해당 데이터들은 개인 정보 이슈로 모델링에만 활용되고 폐기하였습니다,\n",
        "# filename = '../data/data_통합본.csv'\n",
        "# filename2 = '../data/data2.csv'\n",
        "# filename3 = '../data/data3.csv'\n",
        "\n",
        "filename4 = '../data/data4.csv'\n",
        "filename5 = '../data/data5.csv'\n",
        "filename6 = '../data/data6.csv'\n",
        "\n",
        "data = pd.read_csv(filename, header = None)\n",
        "data2 = pd.read_csv(filename2, header = None)\n",
        "data3 = pd.read_csv(filename3, header = None).iloc[:70,:]\n",
        "\n",
        "data4 = pd.read_csv(filename4, encoding='cp949', header = None).iloc[:30,:]\n",
        "data5 = pd.read_csv(filename5, encoding='cp949', header = None)\n",
        "data6 = pd.read_csv(filename6, header = None)"
      ]
    },
    {
      "cell_type": "code",
      "source": [
        "data.columns = ['phising']+[i for i in range(68)]\n",
        "concat = pd.DataFrame({'phising':[1 for i in range(30)]})\n",
        "concat2 = pd.DataFrame({'phising':[0 for i in range(len(data2))]})\n",
        "concat3 = pd.DataFrame({'phising':[0 for i in range(len(data3))]})\n",
        "data6.columns = ['phising']+[i for i in range(48)]\n",
        "\n",
        "data2_con = pd.concat([concat2, data2], axis=1)\n",
        "data3_con = pd.concat([concat3, data3], axis=1)\n",
        "data4_con = pd.concat([concat, data4], axis=1)\n",
        "data5_con = pd.concat([concat, data5], axis=1)\n",
        "\n",
        "data = pd.concat([data, data2_con, data4_con, data5_con, data6]).reset_index(drop=True)"
      ],
      "metadata": {
        "id": "c_RupS0YEdto"
      },
      "execution_count": null,
      "outputs": []
    },
    {
      "cell_type": "code",
      "source": [
        "def change_name(sent):\n",
        "  name = sent.split(' : ')[0]\n",
        "  text = sent.split(' : ')[1]\n",
        "  new = '[' + name + '] ' + text\n",
        "  return new\n",
        "\n",
        "new_df = pd.DataFrame(index=range(0,len(data3_con)), columns=range(61))\n",
        "for i in range(len(data3_con)):\n",
        "  new_df.iloc[i,0] = data3_con['phising'][i]\n",
        "  for j in range(1,61):\n",
        "    try:\n",
        "      new_df.iloc[i,j] = change_name(data3_con.iloc[i,j])\n",
        "    except:\n",
        "      pass\n",
        "\n",
        "new_df.columns = ['phising']+[i for i in range(60)]\n",
        "data = pd.concat([data,new_df]).reset_index(drop=True)\n",
        "data"
      ],
      "metadata": {
        "colab": {
          "base_uri": "https://localhost:8080/",
          "height": 1000
        },
        "id": "4ae2QTNetE1-",
        "outputId": "f1c1e08f-50e7-4538-a218-c19c03ebacc4"
      },
      "execution_count": null,
      "outputs": [
        {
          "output_type": "execute_result",
          "data": {
            "text/plain": [
              "    phising                             0  \\\n",
              "0         1                  [피싱범] 엄마 바빠?   \n",
              "1         1                  [피싱범] 언니 바빠?   \n",
              "2         1                     [피싱범] 바뻐?   \n",
              "3         1                      [피싱범] 아빠   \n",
              "4         1               [피싱범] 엄마 지금 바빠?   \n",
              "..      ...                           ...   \n",
              "371       0                      [신민아] 사진   \n",
              "372       0                     [신민아] 웨이터   \n",
              "373       0  [신민아] 복수동에서 은행동가는길 알려주면 용서해줌   \n",
              "374       0                      [신민아] 제발   \n",
              "375       0                  [신민아] 내일 뭐함?   \n",
              "\n",
              "                                            1                    2  \\\n",
              "0    [피싱범] 지금 핸드폰 액정 나가서 매장에 맡기고 컴퓨터로 카톡 하고있어         [피해자] 아 ~~그래   \n",
              "1                                     [피해자] 왜   [피싱범] 부탁 하나만 해도 돼?   \n",
              "2                                 [피해자] 수업하는중  [피싱범] 이모 부탁잇어 그러는데…   \n",
              "3       [피싱범] 저 핸드폰 액정이 깨져서 컴퓨터로 카톡을 하고 있어요ㅠㅠ             [피싱범] 아빠   \n",
              "4        [피싱범] 나 핸드폰 액정 고장나서 수리 맡기고 컴터로 카톡올랐어           [피해자] 알겠어염   \n",
              "..                                        ...                  ...   \n",
              "371                                  [신수빈] 오잉           [신수빈] 뚫었니?   \n",
              "372                               [신수빈] 터미네이터           [신민아] 너어디야   \n",
              "373                                 [신수빈] 314             [신수빈] 타고   \n",
              "374                                [신민아] 그랬으면              [신수빈] 호   \n",
              "375                                  [신수빈] 엠티             [신수빈] 가요   \n",
              "\n",
              "                             3  \\\n",
              "0           [피싱범] 엄마 지금 시간 있어?   \n",
              "1                      [피해자] 머   \n",
              "2    [피해자] 오늘 학교 안갔어? 무슨 부탁?ㅎㅎ   \n",
              "3                  [피싱범] 안들려요?   \n",
              "4              [피싱범] 지금 많이 바빠?   \n",
              "..                         ...   \n",
              "371                   [신민아] 우에   \n",
              "372                  [신수빈] 가오동   \n",
              "373               [신수빈] 으능정이에서   \n",
              "374                   [신수빈] ㅗㅗ   \n",
              "375                [신민아] 뿅뿅떠나네   \n",
              "\n",
              "                                                     4                     5  \\\n",
              "0    [피싱범] 친한 선배가 문화상품권 사달라고 부탁하는데 핸드폰 고장나서 못하고 있어 ...             [피해자] 어떻게   \n",
              "1     [피싱범] 지금 급히 송금할 데 있어 그러는데 대신 해주면 안돼? 저녁에 다시 보내줄게            [피해자] 미친ㅡㅡ   \n",
              "2                    [피싱범] 급히 송금할거 있는데, 이모 먼저 보내주면 안돼?  [피싱범] 내일 오전으로 보내줄게..   \n",
              "3                                      [피해자] 아직도 전화안대니  [피싱범] 네 내일 찾으러 가야 해요   \n",
              "4                                [피싱범] 안 바쁘면 머 좀 부탁하려고              [피해자] 왜?   \n",
              "..                                                 ...                   ...   \n",
              "371                                          [신수빈] 웨에ㅔ                   NaN   \n",
              "372                                            [신민아] 왜        [신수빈] 할머니댁왔는데;   \n",
              "373                                          [신수빈] 내리렴             [신민아] 어디서   \n",
              "374                                      [신민아] 옵치만 하야디               [신수빈] 힝   \n",
              "375                                          [신수빈] 헤헿ㅎ              [신수빈] 넘좋   \n",
              "\n",
              "                                         6  \\\n",
              "0    [피싱범] 가까운 편의점에 가서 문화상품권 3만원권 15장 구입해줘   \n",
              "1                   [피해자] 야 니가 나보다 돈 더 많잖아   \n",
              "2                         [피해자] 얼마정도 필요한데?   \n",
              "3                         [피싱범] 아빠 지금 바빠요?   \n",
              "4                               [피해자] 부탁해봐   \n",
              "..                                     ...   \n",
              "371                                    NaN   \n",
              "372                               [신민아] 사진   \n",
              "373                             [신민아] 314타   \n",
              "374                             [신수빈] 난집간당   \n",
              "375                               [신민아] 나는   \n",
              "\n",
              "                                            7  \\\n",
              "0                        [피해자] 그래서 어떻게 하면 되는데   \n",
              "1                        [피해자] 없어 돈 바빠죽겠는데 진짜   \n",
              "2                             [피싱범] 586만 6천원…   \n",
              "3                 [피해자] 알앗다 건강 조심하고 아빤 설사 병낫다   \n",
              "4    [피싱범] 친한 선배한테 입금 먼저 받고 문화상품권 구매 부탁을 받았는데   \n",
              "..                                        ...   \n",
              "371                                       NaN   \n",
              "372                               [신민아] 좀 귀엽지   \n",
              "373                              [신민아] 어느방향으로   \n",
              "374                             [신수빈] 오늘ㄹ시사회가   \n",
              "375                               [신민아] 동아리없음   \n",
              "\n",
              "                                                     8  ...   58   59   60  \\\n",
              "0                                     [피싱범] 엄마 구입하면 톡줘  ...  NaN  NaN  NaN   \n",
              "1                                            [피싱범] 알앗어  ...  NaN  NaN  NaN   \n",
              "2    [피해자] ㅋㅋ 너 미쳤구나.. 너희 엄마한테 먼저 물어보고. 이모 신불자인거 알잖...  ...  NaN  NaN  NaN   \n",
              "3                                       [피싱범] ㅠㅠ 괜찮아요?  ...  NaN  NaN  NaN   \n",
              "4                            [피싱범] 폰땜에 내꺼로 온라인 주문이 안돼서  ...  NaN  NaN  NaN   \n",
              "..                                                 ...  ...  ...  ...  ...   \n",
              "371                                                NaN  ...  NaN  NaN  NaN   \n",
              "372                                        [신수빈] 너무기엽다  ...  NaN  NaN  NaN   \n",
              "373                                          [신민아] 어뜨케  ...  NaN  NaN  NaN   \n",
              "374                                          [신수빈] ㅎ헤헿  ...  NaN  NaN  NaN   \n",
              "375                                        [신수빈] 나도없는뎅  ...  NaN  NaN  NaN   \n",
              "\n",
              "      61   62   63   64   65   66   67  \n",
              "0    NaN  NaN  NaN  NaN  NaN  NaN  NaN  \n",
              "1    NaN  NaN  NaN  NaN  NaN  NaN  NaN  \n",
              "2    NaN  NaN  NaN  NaN  NaN  NaN  NaN  \n",
              "3    NaN  NaN  NaN  NaN  NaN  NaN  NaN  \n",
              "4    NaN  NaN  NaN  NaN  NaN  NaN  NaN  \n",
              "..   ...  ...  ...  ...  ...  ...  ...  \n",
              "371  NaN  NaN  NaN  NaN  NaN  NaN  NaN  \n",
              "372  NaN  NaN  NaN  NaN  NaN  NaN  NaN  \n",
              "373  NaN  NaN  NaN  NaN  NaN  NaN  NaN  \n",
              "374  NaN  NaN  NaN  NaN  NaN  NaN  NaN  \n",
              "375  NaN  NaN  NaN  NaN  NaN  NaN  NaN  \n",
              "\n",
              "[376 rows x 69 columns]"
            ],
            "text/html": [
              "\n",
              "  <div id=\"df-a8a85b9a-818f-41e3-886e-5d3edd077fd0\">\n",
              "    <div class=\"colab-df-container\">\n",
              "      <div>\n",
              "<style scoped>\n",
              "    .dataframe tbody tr th:only-of-type {\n",
              "        vertical-align: middle;\n",
              "    }\n",
              "\n",
              "    .dataframe tbody tr th {\n",
              "        vertical-align: top;\n",
              "    }\n",
              "\n",
              "    .dataframe thead th {\n",
              "        text-align: right;\n",
              "    }\n",
              "</style>\n",
              "<table border=\"1\" class=\"dataframe\">\n",
              "  <thead>\n",
              "    <tr style=\"text-align: right;\">\n",
              "      <th></th>\n",
              "      <th>phising</th>\n",
              "      <th>0</th>\n",
              "      <th>1</th>\n",
              "      <th>2</th>\n",
              "      <th>3</th>\n",
              "      <th>4</th>\n",
              "      <th>5</th>\n",
              "      <th>6</th>\n",
              "      <th>7</th>\n",
              "      <th>8</th>\n",
              "      <th>...</th>\n",
              "      <th>58</th>\n",
              "      <th>59</th>\n",
              "      <th>60</th>\n",
              "      <th>61</th>\n",
              "      <th>62</th>\n",
              "      <th>63</th>\n",
              "      <th>64</th>\n",
              "      <th>65</th>\n",
              "      <th>66</th>\n",
              "      <th>67</th>\n",
              "    </tr>\n",
              "  </thead>\n",
              "  <tbody>\n",
              "    <tr>\n",
              "      <th>0</th>\n",
              "      <td>1</td>\n",
              "      <td>[피싱범] 엄마 바빠?</td>\n",
              "      <td>[피싱범] 지금 핸드폰 액정 나가서 매장에 맡기고 컴퓨터로 카톡 하고있어</td>\n",
              "      <td>[피해자] 아 ~~그래</td>\n",
              "      <td>[피싱범] 엄마 지금 시간 있어?</td>\n",
              "      <td>[피싱범] 친한 선배가 문화상품권 사달라고 부탁하는데 핸드폰 고장나서 못하고 있어 ...</td>\n",
              "      <td>[피해자] 어떻게</td>\n",
              "      <td>[피싱범] 가까운 편의점에 가서 문화상품권 3만원권 15장 구입해줘</td>\n",
              "      <td>[피해자] 그래서 어떻게 하면 되는데</td>\n",
              "      <td>[피싱범] 엄마 구입하면 톡줘</td>\n",
              "      <td>...</td>\n",
              "      <td>NaN</td>\n",
              "      <td>NaN</td>\n",
              "      <td>NaN</td>\n",
              "      <td>NaN</td>\n",
              "      <td>NaN</td>\n",
              "      <td>NaN</td>\n",
              "      <td>NaN</td>\n",
              "      <td>NaN</td>\n",
              "      <td>NaN</td>\n",
              "      <td>NaN</td>\n",
              "    </tr>\n",
              "    <tr>\n",
              "      <th>1</th>\n",
              "      <td>1</td>\n",
              "      <td>[피싱범] 언니 바빠?</td>\n",
              "      <td>[피해자] 왜</td>\n",
              "      <td>[피싱범] 부탁 하나만 해도 돼?</td>\n",
              "      <td>[피해자] 머</td>\n",
              "      <td>[피싱범] 지금 급히 송금할 데 있어 그러는데 대신 해주면 안돼? 저녁에 다시 보내줄게</td>\n",
              "      <td>[피해자] 미친ㅡㅡ</td>\n",
              "      <td>[피해자] 야 니가 나보다 돈 더 많잖아</td>\n",
              "      <td>[피해자] 없어 돈 바빠죽겠는데 진짜</td>\n",
              "      <td>[피싱범] 알앗어</td>\n",
              "      <td>...</td>\n",
              "      <td>NaN</td>\n",
              "      <td>NaN</td>\n",
              "      <td>NaN</td>\n",
              "      <td>NaN</td>\n",
              "      <td>NaN</td>\n",
              "      <td>NaN</td>\n",
              "      <td>NaN</td>\n",
              "      <td>NaN</td>\n",
              "      <td>NaN</td>\n",
              "      <td>NaN</td>\n",
              "    </tr>\n",
              "    <tr>\n",
              "      <th>2</th>\n",
              "      <td>1</td>\n",
              "      <td>[피싱범] 바뻐?</td>\n",
              "      <td>[피해자] 수업하는중</td>\n",
              "      <td>[피싱범] 이모 부탁잇어 그러는데…</td>\n",
              "      <td>[피해자] 오늘 학교 안갔어? 무슨 부탁?ㅎㅎ</td>\n",
              "      <td>[피싱범] 급히 송금할거 있는데, 이모 먼저 보내주면 안돼?</td>\n",
              "      <td>[피싱범] 내일 오전으로 보내줄게..</td>\n",
              "      <td>[피해자] 얼마정도 필요한데?</td>\n",
              "      <td>[피싱범] 586만 6천원…</td>\n",
              "      <td>[피해자] ㅋㅋ 너 미쳤구나.. 너희 엄마한테 먼저 물어보고. 이모 신불자인거 알잖...</td>\n",
              "      <td>...</td>\n",
              "      <td>NaN</td>\n",
              "      <td>NaN</td>\n",
              "      <td>NaN</td>\n",
              "      <td>NaN</td>\n",
              "      <td>NaN</td>\n",
              "      <td>NaN</td>\n",
              "      <td>NaN</td>\n",
              "      <td>NaN</td>\n",
              "      <td>NaN</td>\n",
              "      <td>NaN</td>\n",
              "    </tr>\n",
              "    <tr>\n",
              "      <th>3</th>\n",
              "      <td>1</td>\n",
              "      <td>[피싱범] 아빠</td>\n",
              "      <td>[피싱범] 저 핸드폰 액정이 깨져서 컴퓨터로 카톡을 하고 있어요ㅠㅠ</td>\n",
              "      <td>[피싱범] 아빠</td>\n",
              "      <td>[피싱범] 안들려요?</td>\n",
              "      <td>[피해자] 아직도 전화안대니</td>\n",
              "      <td>[피싱범] 네 내일 찾으러 가야 해요</td>\n",
              "      <td>[피싱범] 아빠 지금 바빠요?</td>\n",
              "      <td>[피해자] 알앗다 건강 조심하고 아빤 설사 병낫다</td>\n",
              "      <td>[피싱범] ㅠㅠ 괜찮아요?</td>\n",
              "      <td>...</td>\n",
              "      <td>NaN</td>\n",
              "      <td>NaN</td>\n",
              "      <td>NaN</td>\n",
              "      <td>NaN</td>\n",
              "      <td>NaN</td>\n",
              "      <td>NaN</td>\n",
              "      <td>NaN</td>\n",
              "      <td>NaN</td>\n",
              "      <td>NaN</td>\n",
              "      <td>NaN</td>\n",
              "    </tr>\n",
              "    <tr>\n",
              "      <th>4</th>\n",
              "      <td>1</td>\n",
              "      <td>[피싱범] 엄마 지금 바빠?</td>\n",
              "      <td>[피싱범] 나 핸드폰 액정 고장나서 수리 맡기고 컴터로 카톡올랐어</td>\n",
              "      <td>[피해자] 알겠어염</td>\n",
              "      <td>[피싱범] 지금 많이 바빠?</td>\n",
              "      <td>[피싱범] 안 바쁘면 머 좀 부탁하려고</td>\n",
              "      <td>[피해자] 왜?</td>\n",
              "      <td>[피해자] 부탁해봐</td>\n",
              "      <td>[피싱범] 친한 선배한테 입금 먼저 받고 문화상품권 구매 부탁을 받았는데</td>\n",
              "      <td>[피싱범] 폰땜에 내꺼로 온라인 주문이 안돼서</td>\n",
              "      <td>...</td>\n",
              "      <td>NaN</td>\n",
              "      <td>NaN</td>\n",
              "      <td>NaN</td>\n",
              "      <td>NaN</td>\n",
              "      <td>NaN</td>\n",
              "      <td>NaN</td>\n",
              "      <td>NaN</td>\n",
              "      <td>NaN</td>\n",
              "      <td>NaN</td>\n",
              "      <td>NaN</td>\n",
              "    </tr>\n",
              "    <tr>\n",
              "      <th>...</th>\n",
              "      <td>...</td>\n",
              "      <td>...</td>\n",
              "      <td>...</td>\n",
              "      <td>...</td>\n",
              "      <td>...</td>\n",
              "      <td>...</td>\n",
              "      <td>...</td>\n",
              "      <td>...</td>\n",
              "      <td>...</td>\n",
              "      <td>...</td>\n",
              "      <td>...</td>\n",
              "      <td>...</td>\n",
              "      <td>...</td>\n",
              "      <td>...</td>\n",
              "      <td>...</td>\n",
              "      <td>...</td>\n",
              "      <td>...</td>\n",
              "      <td>...</td>\n",
              "      <td>...</td>\n",
              "      <td>...</td>\n",
              "      <td>...</td>\n",
              "    </tr>\n",
              "    <tr>\n",
              "      <th>371</th>\n",
              "      <td>0</td>\n",
              "      <td>[신민아] 사진</td>\n",
              "      <td>[신수빈] 오잉</td>\n",
              "      <td>[신수빈] 뚫었니?</td>\n",
              "      <td>[신민아] 우에</td>\n",
              "      <td>[신수빈] 웨에ㅔ</td>\n",
              "      <td>NaN</td>\n",
              "      <td>NaN</td>\n",
              "      <td>NaN</td>\n",
              "      <td>NaN</td>\n",
              "      <td>...</td>\n",
              "      <td>NaN</td>\n",
              "      <td>NaN</td>\n",
              "      <td>NaN</td>\n",
              "      <td>NaN</td>\n",
              "      <td>NaN</td>\n",
              "      <td>NaN</td>\n",
              "      <td>NaN</td>\n",
              "      <td>NaN</td>\n",
              "      <td>NaN</td>\n",
              "      <td>NaN</td>\n",
              "    </tr>\n",
              "    <tr>\n",
              "      <th>372</th>\n",
              "      <td>0</td>\n",
              "      <td>[신민아] 웨이터</td>\n",
              "      <td>[신수빈] 터미네이터</td>\n",
              "      <td>[신민아] 너어디야</td>\n",
              "      <td>[신수빈] 가오동</td>\n",
              "      <td>[신민아] 왜</td>\n",
              "      <td>[신수빈] 할머니댁왔는데;</td>\n",
              "      <td>[신민아] 사진</td>\n",
              "      <td>[신민아] 좀 귀엽지</td>\n",
              "      <td>[신수빈] 너무기엽다</td>\n",
              "      <td>...</td>\n",
              "      <td>NaN</td>\n",
              "      <td>NaN</td>\n",
              "      <td>NaN</td>\n",
              "      <td>NaN</td>\n",
              "      <td>NaN</td>\n",
              "      <td>NaN</td>\n",
              "      <td>NaN</td>\n",
              "      <td>NaN</td>\n",
              "      <td>NaN</td>\n",
              "      <td>NaN</td>\n",
              "    </tr>\n",
              "    <tr>\n",
              "      <th>373</th>\n",
              "      <td>0</td>\n",
              "      <td>[신민아] 복수동에서 은행동가는길 알려주면 용서해줌</td>\n",
              "      <td>[신수빈] 314</td>\n",
              "      <td>[신수빈] 타고</td>\n",
              "      <td>[신수빈] 으능정이에서</td>\n",
              "      <td>[신수빈] 내리렴</td>\n",
              "      <td>[신민아] 어디서</td>\n",
              "      <td>[신민아] 314타</td>\n",
              "      <td>[신민아] 어느방향으로</td>\n",
              "      <td>[신민아] 어뜨케</td>\n",
              "      <td>...</td>\n",
              "      <td>NaN</td>\n",
              "      <td>NaN</td>\n",
              "      <td>NaN</td>\n",
              "      <td>NaN</td>\n",
              "      <td>NaN</td>\n",
              "      <td>NaN</td>\n",
              "      <td>NaN</td>\n",
              "      <td>NaN</td>\n",
              "      <td>NaN</td>\n",
              "      <td>NaN</td>\n",
              "    </tr>\n",
              "    <tr>\n",
              "      <th>374</th>\n",
              "      <td>0</td>\n",
              "      <td>[신민아] 제발</td>\n",
              "      <td>[신민아] 그랬으면</td>\n",
              "      <td>[신수빈] 호</td>\n",
              "      <td>[신수빈] ㅗㅗ</td>\n",
              "      <td>[신민아] 옵치만 하야디</td>\n",
              "      <td>[신수빈] 힝</td>\n",
              "      <td>[신수빈] 난집간당</td>\n",
              "      <td>[신수빈] 오늘ㄹ시사회가</td>\n",
              "      <td>[신수빈] ㅎ헤헿</td>\n",
              "      <td>...</td>\n",
              "      <td>NaN</td>\n",
              "      <td>NaN</td>\n",
              "      <td>NaN</td>\n",
              "      <td>NaN</td>\n",
              "      <td>NaN</td>\n",
              "      <td>NaN</td>\n",
              "      <td>NaN</td>\n",
              "      <td>NaN</td>\n",
              "      <td>NaN</td>\n",
              "      <td>NaN</td>\n",
              "    </tr>\n",
              "    <tr>\n",
              "      <th>375</th>\n",
              "      <td>0</td>\n",
              "      <td>[신민아] 내일 뭐함?</td>\n",
              "      <td>[신수빈] 엠티</td>\n",
              "      <td>[신수빈] 가요</td>\n",
              "      <td>[신민아] 뿅뿅떠나네</td>\n",
              "      <td>[신수빈] 헤헿ㅎ</td>\n",
              "      <td>[신수빈] 넘좋</td>\n",
              "      <td>[신민아] 나는</td>\n",
              "      <td>[신민아] 동아리없음</td>\n",
              "      <td>[신수빈] 나도없는뎅</td>\n",
              "      <td>...</td>\n",
              "      <td>NaN</td>\n",
              "      <td>NaN</td>\n",
              "      <td>NaN</td>\n",
              "      <td>NaN</td>\n",
              "      <td>NaN</td>\n",
              "      <td>NaN</td>\n",
              "      <td>NaN</td>\n",
              "      <td>NaN</td>\n",
              "      <td>NaN</td>\n",
              "      <td>NaN</td>\n",
              "    </tr>\n",
              "  </tbody>\n",
              "</table>\n",
              "<p>376 rows × 69 columns</p>\n",
              "</div>\n",
              "      <button class=\"colab-df-convert\" onclick=\"convertToInteractive('df-a8a85b9a-818f-41e3-886e-5d3edd077fd0')\"\n",
              "              title=\"Convert this dataframe to an interactive table.\"\n",
              "              style=\"display:none;\">\n",
              "        \n",
              "  <svg xmlns=\"http://www.w3.org/2000/svg\" height=\"24px\"viewBox=\"0 0 24 24\"\n",
              "       width=\"24px\">\n",
              "    <path d=\"M0 0h24v24H0V0z\" fill=\"none\"/>\n",
              "    <path d=\"M18.56 5.44l.94 2.06.94-2.06 2.06-.94-2.06-.94-.94-2.06-.94 2.06-2.06.94zm-11 1L8.5 8.5l.94-2.06 2.06-.94-2.06-.94L8.5 2.5l-.94 2.06-2.06.94zm10 10l.94 2.06.94-2.06 2.06-.94-2.06-.94-.94-2.06-.94 2.06-2.06.94z\"/><path d=\"M17.41 7.96l-1.37-1.37c-.4-.4-.92-.59-1.43-.59-.52 0-1.04.2-1.43.59L10.3 9.45l-7.72 7.72c-.78.78-.78 2.05 0 2.83L4 21.41c.39.39.9.59 1.41.59.51 0 1.02-.2 1.41-.59l7.78-7.78 2.81-2.81c.8-.78.8-2.07 0-2.86zM5.41 20L4 18.59l7.72-7.72 1.47 1.35L5.41 20z\"/>\n",
              "  </svg>\n",
              "      </button>\n",
              "      \n",
              "  <style>\n",
              "    .colab-df-container {\n",
              "      display:flex;\n",
              "      flex-wrap:wrap;\n",
              "      gap: 12px;\n",
              "    }\n",
              "\n",
              "    .colab-df-convert {\n",
              "      background-color: #E8F0FE;\n",
              "      border: none;\n",
              "      border-radius: 50%;\n",
              "      cursor: pointer;\n",
              "      display: none;\n",
              "      fill: #1967D2;\n",
              "      height: 32px;\n",
              "      padding: 0 0 0 0;\n",
              "      width: 32px;\n",
              "    }\n",
              "\n",
              "    .colab-df-convert:hover {\n",
              "      background-color: #E2EBFA;\n",
              "      box-shadow: 0px 1px 2px rgba(60, 64, 67, 0.3), 0px 1px 3px 1px rgba(60, 64, 67, 0.15);\n",
              "      fill: #174EA6;\n",
              "    }\n",
              "\n",
              "    [theme=dark] .colab-df-convert {\n",
              "      background-color: #3B4455;\n",
              "      fill: #D2E3FC;\n",
              "    }\n",
              "\n",
              "    [theme=dark] .colab-df-convert:hover {\n",
              "      background-color: #434B5C;\n",
              "      box-shadow: 0px 1px 3px 1px rgba(0, 0, 0, 0.15);\n",
              "      filter: drop-shadow(0px 1px 2px rgba(0, 0, 0, 0.3));\n",
              "      fill: #FFFFFF;\n",
              "    }\n",
              "  </style>\n",
              "\n",
              "      <script>\n",
              "        const buttonEl =\n",
              "          document.querySelector('#df-a8a85b9a-818f-41e3-886e-5d3edd077fd0 button.colab-df-convert');\n",
              "        buttonEl.style.display =\n",
              "          google.colab.kernel.accessAllowed ? 'block' : 'none';\n",
              "\n",
              "        async function convertToInteractive(key) {\n",
              "          const element = document.querySelector('#df-a8a85b9a-818f-41e3-886e-5d3edd077fd0');\n",
              "          const dataTable =\n",
              "            await google.colab.kernel.invokeFunction('convertToInteractive',\n",
              "                                                     [key], {});\n",
              "          if (!dataTable) return;\n",
              "\n",
              "          const docLinkHtml = 'Like what you see? Visit the ' +\n",
              "            '<a target=\"_blank\" href=https://colab.research.google.com/notebooks/data_table.ipynb>data table notebook</a>'\n",
              "            + ' to learn more about interactive tables.';\n",
              "          element.innerHTML = '';\n",
              "          dataTable['output_type'] = 'display_data';\n",
              "          await google.colab.output.renderOutput(dataTable, element);\n",
              "          const docLink = document.createElement('div');\n",
              "          docLink.innerHTML = docLinkHtml;\n",
              "          element.appendChild(docLink);\n",
              "        }\n",
              "      </script>\n",
              "    </div>\n",
              "  </div>\n",
              "  "
            ]
          },
          "metadata": {},
          "execution_count": 5
        }
      ]
    },
    {
      "cell_type": "code",
      "source": [
        "# data.to_csv('/content/drive/MyDrive/Colab Notebooks/캡스톤 디자인/통합본2.csv',header=False, index=False)"
      ],
      "metadata": {
        "id": "RV9Vz5WMwj3v"
      },
      "execution_count": null,
      "outputs": []
    },
    {
      "cell_type": "markdown",
      "source": [
        "## 텍스트 처리 함수"
      ],
      "metadata": {
        "id": "THOLRG8AhUT-"
      }
    },
    {
      "cell_type": "code",
      "source": [
        "# 메세지 쓴 사람 추출\n",
        "# 시간 없는 경우 / 있는 경우 둘다 가능\n",
        "\n",
        "import re\n",
        "\n",
        "def get_writer(line):\n",
        "  split_person = re.split('\\]', line)\n",
        "  writer = split_person[0].strip('[')\n",
        "  return writer"
      ],
      "metadata": {
        "id": "oCO06AIJISUf"
      },
      "execution_count": null,
      "outputs": []
    },
    {
      "cell_type": "code",
      "source": [
        "# 대화상대 이름 모두 추출\n",
        "def get_all_writers(conversation):\n",
        "  name = []\n",
        "  try:\n",
        "    for i in range(len(conversation)):\n",
        "      line = str(conversation[i])\n",
        "      person = get_writer(line)\n",
        "      name.append(person)\n",
        "  except:\n",
        "    pass\n",
        "  name = list(set(name))\n",
        "  if 'nan' in name:\n",
        "    name.remove('nan')\n",
        "  if 'None' in name:\n",
        "    name.remove('None')\n",
        "  return name\n",
        "\n",
        "# 시간/ 대화상대이름 삭제하기\n",
        "def delete_time_name(conversation):\n",
        "  conversation_del = []\n",
        "  try:\n",
        "    for i in range(len(conversation)):\n",
        "      line = str(conversation[i])\n",
        "      conversation_del.append(re.split('\\] ', line)[-1])\n",
        "      if 'nan' in conversation_del:\n",
        "        conversation_del.remove('nan')\n",
        "      if 'None' in conversation_del:\n",
        "        conversation_del.remove('None')\n",
        "  except:\n",
        "    pass\n",
        "  return conversation_del"
      ],
      "metadata": {
        "id": "uQ-ZzO3wPtmV"
      },
      "execution_count": null,
      "outputs": []
    },
    {
      "cell_type": "code",
      "source": [
        "# 대화상대별 대화 나누기\n",
        "def split_conversation2(conversation, opp_list):\n",
        "  conversation1 = []\n",
        "  conversation2 = []\n",
        "  person_list = get_all_writers(conversation)\n",
        "\n",
        "  try:\n",
        "    for i in range(len(conversation)):\n",
        "      line = str(conversation[i])\n",
        "      if get_writer(line) in opp_list:\n",
        "        conversation1.append(line)\n",
        "      else:\n",
        "        conversation2.append(line)\n",
        "  except:\n",
        "    pass\n",
        "\n",
        "  conversation1 = delete_time_name(conversation1)\n",
        "  conversation2 = delete_time_name(conversation2)\n",
        "\n",
        "  conversation1 = \" \".join(conversation1) # 상대방\n",
        "  conversation2 = \" \".join(conversation2) # 나\n",
        "\n",
        "  return conversation1, conversation2, person_list"
      ],
      "metadata": {
        "id": "Mfn1rij-ISKh"
      },
      "execution_count": null,
      "outputs": []
    },
    {
      "cell_type": "markdown",
      "source": [
        "## 데이터셋 정리(대화분리)"
      ],
      "metadata": {
        "id": "aYIryfCgfZwA"
      }
    },
    {
      "cell_type": "code",
      "source": [
        "# 빈 데이터 프레임 생성\n",
        "df = pd.DataFrame(index=range(0,len(data)), columns=range(3))\n",
        "df"
      ],
      "metadata": {
        "colab": {
          "base_uri": "https://localhost:8080/",
          "height": 423
        },
        "id": "F97h5cm3j_ml",
        "outputId": "431b6641-30bf-49d5-a780-992c5519e275"
      },
      "execution_count": null,
      "outputs": [
        {
          "output_type": "execute_result",
          "data": {
            "text/plain": [
              "       0    1    2\n",
              "0    NaN  NaN  NaN\n",
              "1    NaN  NaN  NaN\n",
              "2    NaN  NaN  NaN\n",
              "3    NaN  NaN  NaN\n",
              "4    NaN  NaN  NaN\n",
              "..   ...  ...  ...\n",
              "371  NaN  NaN  NaN\n",
              "372  NaN  NaN  NaN\n",
              "373  NaN  NaN  NaN\n",
              "374  NaN  NaN  NaN\n",
              "375  NaN  NaN  NaN\n",
              "\n",
              "[376 rows x 3 columns]"
            ],
            "text/html": [
              "\n",
              "  <div id=\"df-e61ecf5a-8046-4b53-8264-7ba3f5d155cd\">\n",
              "    <div class=\"colab-df-container\">\n",
              "      <div>\n",
              "<style scoped>\n",
              "    .dataframe tbody tr th:only-of-type {\n",
              "        vertical-align: middle;\n",
              "    }\n",
              "\n",
              "    .dataframe tbody tr th {\n",
              "        vertical-align: top;\n",
              "    }\n",
              "\n",
              "    .dataframe thead th {\n",
              "        text-align: right;\n",
              "    }\n",
              "</style>\n",
              "<table border=\"1\" class=\"dataframe\">\n",
              "  <thead>\n",
              "    <tr style=\"text-align: right;\">\n",
              "      <th></th>\n",
              "      <th>0</th>\n",
              "      <th>1</th>\n",
              "      <th>2</th>\n",
              "    </tr>\n",
              "  </thead>\n",
              "  <tbody>\n",
              "    <tr>\n",
              "      <th>0</th>\n",
              "      <td>NaN</td>\n",
              "      <td>NaN</td>\n",
              "      <td>NaN</td>\n",
              "    </tr>\n",
              "    <tr>\n",
              "      <th>1</th>\n",
              "      <td>NaN</td>\n",
              "      <td>NaN</td>\n",
              "      <td>NaN</td>\n",
              "    </tr>\n",
              "    <tr>\n",
              "      <th>2</th>\n",
              "      <td>NaN</td>\n",
              "      <td>NaN</td>\n",
              "      <td>NaN</td>\n",
              "    </tr>\n",
              "    <tr>\n",
              "      <th>3</th>\n",
              "      <td>NaN</td>\n",
              "      <td>NaN</td>\n",
              "      <td>NaN</td>\n",
              "    </tr>\n",
              "    <tr>\n",
              "      <th>4</th>\n",
              "      <td>NaN</td>\n",
              "      <td>NaN</td>\n",
              "      <td>NaN</td>\n",
              "    </tr>\n",
              "    <tr>\n",
              "      <th>...</th>\n",
              "      <td>...</td>\n",
              "      <td>...</td>\n",
              "      <td>...</td>\n",
              "    </tr>\n",
              "    <tr>\n",
              "      <th>371</th>\n",
              "      <td>NaN</td>\n",
              "      <td>NaN</td>\n",
              "      <td>NaN</td>\n",
              "    </tr>\n",
              "    <tr>\n",
              "      <th>372</th>\n",
              "      <td>NaN</td>\n",
              "      <td>NaN</td>\n",
              "      <td>NaN</td>\n",
              "    </tr>\n",
              "    <tr>\n",
              "      <th>373</th>\n",
              "      <td>NaN</td>\n",
              "      <td>NaN</td>\n",
              "      <td>NaN</td>\n",
              "    </tr>\n",
              "    <tr>\n",
              "      <th>374</th>\n",
              "      <td>NaN</td>\n",
              "      <td>NaN</td>\n",
              "      <td>NaN</td>\n",
              "    </tr>\n",
              "    <tr>\n",
              "      <th>375</th>\n",
              "      <td>NaN</td>\n",
              "      <td>NaN</td>\n",
              "      <td>NaN</td>\n",
              "    </tr>\n",
              "  </tbody>\n",
              "</table>\n",
              "<p>376 rows × 3 columns</p>\n",
              "</div>\n",
              "      <button class=\"colab-df-convert\" onclick=\"convertToInteractive('df-e61ecf5a-8046-4b53-8264-7ba3f5d155cd')\"\n",
              "              title=\"Convert this dataframe to an interactive table.\"\n",
              "              style=\"display:none;\">\n",
              "        \n",
              "  <svg xmlns=\"http://www.w3.org/2000/svg\" height=\"24px\"viewBox=\"0 0 24 24\"\n",
              "       width=\"24px\">\n",
              "    <path d=\"M0 0h24v24H0V0z\" fill=\"none\"/>\n",
              "    <path d=\"M18.56 5.44l.94 2.06.94-2.06 2.06-.94-2.06-.94-.94-2.06-.94 2.06-2.06.94zm-11 1L8.5 8.5l.94-2.06 2.06-.94-2.06-.94L8.5 2.5l-.94 2.06-2.06.94zm10 10l.94 2.06.94-2.06 2.06-.94-2.06-.94-.94-2.06-.94 2.06-2.06.94z\"/><path d=\"M17.41 7.96l-1.37-1.37c-.4-.4-.92-.59-1.43-.59-.52 0-1.04.2-1.43.59L10.3 9.45l-7.72 7.72c-.78.78-.78 2.05 0 2.83L4 21.41c.39.39.9.59 1.41.59.51 0 1.02-.2 1.41-.59l7.78-7.78 2.81-2.81c.8-.78.8-2.07 0-2.86zM5.41 20L4 18.59l7.72-7.72 1.47 1.35L5.41 20z\"/>\n",
              "  </svg>\n",
              "      </button>\n",
              "      \n",
              "  <style>\n",
              "    .colab-df-container {\n",
              "      display:flex;\n",
              "      flex-wrap:wrap;\n",
              "      gap: 12px;\n",
              "    }\n",
              "\n",
              "    .colab-df-convert {\n",
              "      background-color: #E8F0FE;\n",
              "      border: none;\n",
              "      border-radius: 50%;\n",
              "      cursor: pointer;\n",
              "      display: none;\n",
              "      fill: #1967D2;\n",
              "      height: 32px;\n",
              "      padding: 0 0 0 0;\n",
              "      width: 32px;\n",
              "    }\n",
              "\n",
              "    .colab-df-convert:hover {\n",
              "      background-color: #E2EBFA;\n",
              "      box-shadow: 0px 1px 2px rgba(60, 64, 67, 0.3), 0px 1px 3px 1px rgba(60, 64, 67, 0.15);\n",
              "      fill: #174EA6;\n",
              "    }\n",
              "\n",
              "    [theme=dark] .colab-df-convert {\n",
              "      background-color: #3B4455;\n",
              "      fill: #D2E3FC;\n",
              "    }\n",
              "\n",
              "    [theme=dark] .colab-df-convert:hover {\n",
              "      background-color: #434B5C;\n",
              "      box-shadow: 0px 1px 3px 1px rgba(0, 0, 0, 0.15);\n",
              "      filter: drop-shadow(0px 1px 2px rgba(0, 0, 0, 0.3));\n",
              "      fill: #FFFFFF;\n",
              "    }\n",
              "  </style>\n",
              "\n",
              "      <script>\n",
              "        const buttonEl =\n",
              "          document.querySelector('#df-e61ecf5a-8046-4b53-8264-7ba3f5d155cd button.colab-df-convert');\n",
              "        buttonEl.style.display =\n",
              "          google.colab.kernel.accessAllowed ? 'block' : 'none';\n",
              "\n",
              "        async function convertToInteractive(key) {\n",
              "          const element = document.querySelector('#df-e61ecf5a-8046-4b53-8264-7ba3f5d155cd');\n",
              "          const dataTable =\n",
              "            await google.colab.kernel.invokeFunction('convertToInteractive',\n",
              "                                                     [key], {});\n",
              "          if (!dataTable) return;\n",
              "\n",
              "          const docLinkHtml = 'Like what you see? Visit the ' +\n",
              "            '<a target=\"_blank\" href=https://colab.research.google.com/notebooks/data_table.ipynb>data table notebook</a>'\n",
              "            + ' to learn more about interactive tables.';\n",
              "          element.innerHTML = '';\n",
              "          dataTable['output_type'] = 'display_data';\n",
              "          await google.colab.output.renderOutput(dataTable, element);\n",
              "          const docLink = document.createElement('div');\n",
              "          docLink.innerHTML = docLinkHtml;\n",
              "          element.appendChild(docLink);\n",
              "        }\n",
              "      </script>\n",
              "    </div>\n",
              "  </div>\n",
              "  "
            ]
          },
          "metadata": {},
          "execution_count": 10
        }
      ]
    },
    {
      "cell_type": "code",
      "source": [
        "opp_list = ['<저장된 상대 이름 추가하기>']\n",
        "\n",
        "for i in range(len(data)):\n",
        "  conversation = data.iloc[i,:]\n",
        "\n",
        "  df.iloc[i,0] = data.iloc[i,:].phising\n",
        "\n",
        "  line = split_conversation2(conversation,opp_list)[0]\n",
        "  df.iloc[i,1] = re.split('nan',line)[0]\n",
        "  line2 = split_conversation2(conversation,opp_list)[1]\n",
        "  df.iloc[i,2] = re.split('nan',line2)[0]"
      ],
      "metadata": {
        "id": "hIy5utgeYIid"
      },
      "execution_count": null,
      "outputs": []
    },
    {
      "cell_type": "code",
      "source": [
        "df.columns=['label', 'phising', 'me']\n",
        "df = df[df.phising != \"\"].reset_index(drop=True) # 텍스트 없는 행 삭제\n",
        "df"
      ],
      "metadata": {
        "colab": {
          "base_uri": "https://localhost:8080/",
          "height": 728
        },
        "id": "npJxSRdmYIXH",
        "outputId": "4b4120ba-78d9-44c9-8197-e49974c16452"
      },
      "execution_count": null,
      "outputs": [
        {
          "output_type": "execute_result",
          "data": {
            "text/plain": [
              "    label                                            phising  \\\n",
              "0       1  엄마 바빠? 지금 핸드폰 액정 나가서 매장에 맡기고 컴퓨터로 카톡 하고있어 엄마 지...   \n",
              "1       1  언니 바빠? 부탁 하나만 해도 돼? 지금 급히 송금할 데 있어 그러는데 대신 해주면...   \n",
              "2       1  바뻐? 이모 부탁잇어 그러는데… 급히 송금할거 있는데, 이모 먼저 보내주면 안돼? ...   \n",
              "3       1  아빠 저 핸드폰 액정이 깨져서 컴퓨터로 카톡을 하고 있어요ㅠㅠ 아빠 안들려요? 네 ...   \n",
              "4       1  엄마 지금 바빠? 나 핸드폰 액정 고장나서 수리 맡기고 컴터로 카톡올랐어 지금 많이...   \n",
              "..    ...                                                ...   \n",
              "360     0                                              사진 우에   \n",
              "361     0  웨이터 너어디야 왜 사진 좀 귀엽지 알아 ㅋㅋㅋㅋㅋㅋㅋㅋㅋㅋㅋㅋㅋㅋㅋㅋㅋㅋ 이모티콘...   \n",
              "362     0  복수동에서 은행동가는길 알려주면 용서해줌 어디서 314타 어느방향으로 어뜨케 ㅍ ?...   \n",
              "363     0                    제발 그랬으면 옵치만 하야디 그딴건 모르겠고 난 주짓수가   \n",
              "364     0                       내일 뭐함? 뿅뿅떠나네 나는 동아리없음 아하 왜가냥   \n",
              "\n",
              "                                                    me  \n",
              "0    아 ~~그래 어떻게 그래서 어떻게 하면 되는데 알았어 핸드폰으로 구입하는거니 카드는...  \n",
              "1             왜 머 미친ㅡㅡ 야 니가 나보다 돈 더 많잖아 없어 돈 바빠죽겠는데 진짜  \n",
              "2    수업하는중 오늘 학교 안갔어? 무슨 부탁?ㅎㅎ 얼마정도 필요한데? ㅋㅋ 너 미쳤구나...  \n",
              "3    아직도 전화안대니 알앗다 건강 조심하고 아빤 설사 병낫다 병원 갔다 왔다 이체가 뭔...  \n",
              "4    알겠어염 왜? 부탁해봐 그럼 그 선배한테 사라고 하면 안돼? 그래 해줄게 글쎄 없을...  \n",
              "..                                                 ...  \n",
              "360                                        오잉 뚫었니? 웨에ㅔ  \n",
              "361  터미네이터 가오동 할머니댁왔는데; 너무기엽다 뭉치 ㅠㅠ ...? 이모티콘  이모티콘...  \n",
              "362  314 타고 으능정이에서 내리렴 초록3에서 타도 되고 신계초에서 타도돼ㅐ 방향ㅇ기억...  \n",
              "363                  호 ㅗㅗ 힝 난집간당 오늘ㄹ시사회가 ㅎ헤헿 힝밍밍 이제집가용  \n",
              "364         엠티 가요 헤헿ㅎ 넘좋 나도없는뎅 이거 동아리엠티아니고 동기엠티 ? 재미짜낭  \n",
              "\n",
              "[365 rows x 3 columns]"
            ],
            "text/html": [
              "\n",
              "  <div id=\"df-b1631678-37ef-4899-91d2-13a19f500ddb\">\n",
              "    <div class=\"colab-df-container\">\n",
              "      <div>\n",
              "<style scoped>\n",
              "    .dataframe tbody tr th:only-of-type {\n",
              "        vertical-align: middle;\n",
              "    }\n",
              "\n",
              "    .dataframe tbody tr th {\n",
              "        vertical-align: top;\n",
              "    }\n",
              "\n",
              "    .dataframe thead th {\n",
              "        text-align: right;\n",
              "    }\n",
              "</style>\n",
              "<table border=\"1\" class=\"dataframe\">\n",
              "  <thead>\n",
              "    <tr style=\"text-align: right;\">\n",
              "      <th></th>\n",
              "      <th>label</th>\n",
              "      <th>phising</th>\n",
              "      <th>me</th>\n",
              "    </tr>\n",
              "  </thead>\n",
              "  <tbody>\n",
              "    <tr>\n",
              "      <th>0</th>\n",
              "      <td>1</td>\n",
              "      <td>엄마 바빠? 지금 핸드폰 액정 나가서 매장에 맡기고 컴퓨터로 카톡 하고있어 엄마 지...</td>\n",
              "      <td>아 ~~그래 어떻게 그래서 어떻게 하면 되는데 알았어 핸드폰으로 구입하는거니 카드는...</td>\n",
              "    </tr>\n",
              "    <tr>\n",
              "      <th>1</th>\n",
              "      <td>1</td>\n",
              "      <td>언니 바빠? 부탁 하나만 해도 돼? 지금 급히 송금할 데 있어 그러는데 대신 해주면...</td>\n",
              "      <td>왜 머 미친ㅡㅡ 야 니가 나보다 돈 더 많잖아 없어 돈 바빠죽겠는데 진짜</td>\n",
              "    </tr>\n",
              "    <tr>\n",
              "      <th>2</th>\n",
              "      <td>1</td>\n",
              "      <td>바뻐? 이모 부탁잇어 그러는데… 급히 송금할거 있는데, 이모 먼저 보내주면 안돼? ...</td>\n",
              "      <td>수업하는중 오늘 학교 안갔어? 무슨 부탁?ㅎㅎ 얼마정도 필요한데? ㅋㅋ 너 미쳤구나...</td>\n",
              "    </tr>\n",
              "    <tr>\n",
              "      <th>3</th>\n",
              "      <td>1</td>\n",
              "      <td>아빠 저 핸드폰 액정이 깨져서 컴퓨터로 카톡을 하고 있어요ㅠㅠ 아빠 안들려요? 네 ...</td>\n",
              "      <td>아직도 전화안대니 알앗다 건강 조심하고 아빤 설사 병낫다 병원 갔다 왔다 이체가 뭔...</td>\n",
              "    </tr>\n",
              "    <tr>\n",
              "      <th>4</th>\n",
              "      <td>1</td>\n",
              "      <td>엄마 지금 바빠? 나 핸드폰 액정 고장나서 수리 맡기고 컴터로 카톡올랐어 지금 많이...</td>\n",
              "      <td>알겠어염 왜? 부탁해봐 그럼 그 선배한테 사라고 하면 안돼? 그래 해줄게 글쎄 없을...</td>\n",
              "    </tr>\n",
              "    <tr>\n",
              "      <th>...</th>\n",
              "      <td>...</td>\n",
              "      <td>...</td>\n",
              "      <td>...</td>\n",
              "    </tr>\n",
              "    <tr>\n",
              "      <th>360</th>\n",
              "      <td>0</td>\n",
              "      <td>사진 우에</td>\n",
              "      <td>오잉 뚫었니? 웨에ㅔ</td>\n",
              "    </tr>\n",
              "    <tr>\n",
              "      <th>361</th>\n",
              "      <td>0</td>\n",
              "      <td>웨이터 너어디야 왜 사진 좀 귀엽지 알아 ㅋㅋㅋㅋㅋㅋㅋㅋㅋㅋㅋㅋㅋㅋㅋㅋㅋㅋ 이모티콘...</td>\n",
              "      <td>터미네이터 가오동 할머니댁왔는데; 너무기엽다 뭉치 ㅠㅠ ...? 이모티콘  이모티콘...</td>\n",
              "    </tr>\n",
              "    <tr>\n",
              "      <th>362</th>\n",
              "      <td>0</td>\n",
              "      <td>복수동에서 은행동가는길 알려주면 용서해줌 어디서 314타 어느방향으로 어뜨케 ㅍ ?...</td>\n",
              "      <td>314 타고 으능정이에서 내리렴 초록3에서 타도 되고 신계초에서 타도돼ㅐ 방향ㅇ기억...</td>\n",
              "    </tr>\n",
              "    <tr>\n",
              "      <th>363</th>\n",
              "      <td>0</td>\n",
              "      <td>제발 그랬으면 옵치만 하야디 그딴건 모르겠고 난 주짓수가</td>\n",
              "      <td>호 ㅗㅗ 힝 난집간당 오늘ㄹ시사회가 ㅎ헤헿 힝밍밍 이제집가용</td>\n",
              "    </tr>\n",
              "    <tr>\n",
              "      <th>364</th>\n",
              "      <td>0</td>\n",
              "      <td>내일 뭐함? 뿅뿅떠나네 나는 동아리없음 아하 왜가냥</td>\n",
              "      <td>엠티 가요 헤헿ㅎ 넘좋 나도없는뎅 이거 동아리엠티아니고 동기엠티 ? 재미짜낭</td>\n",
              "    </tr>\n",
              "  </tbody>\n",
              "</table>\n",
              "<p>365 rows × 3 columns</p>\n",
              "</div>\n",
              "      <button class=\"colab-df-convert\" onclick=\"convertToInteractive('df-b1631678-37ef-4899-91d2-13a19f500ddb')\"\n",
              "              title=\"Convert this dataframe to an interactive table.\"\n",
              "              style=\"display:none;\">\n",
              "        \n",
              "  <svg xmlns=\"http://www.w3.org/2000/svg\" height=\"24px\"viewBox=\"0 0 24 24\"\n",
              "       width=\"24px\">\n",
              "    <path d=\"M0 0h24v24H0V0z\" fill=\"none\"/>\n",
              "    <path d=\"M18.56 5.44l.94 2.06.94-2.06 2.06-.94-2.06-.94-.94-2.06-.94 2.06-2.06.94zm-11 1L8.5 8.5l.94-2.06 2.06-.94-2.06-.94L8.5 2.5l-.94 2.06-2.06.94zm10 10l.94 2.06.94-2.06 2.06-.94-2.06-.94-.94-2.06-.94 2.06-2.06.94z\"/><path d=\"M17.41 7.96l-1.37-1.37c-.4-.4-.92-.59-1.43-.59-.52 0-1.04.2-1.43.59L10.3 9.45l-7.72 7.72c-.78.78-.78 2.05 0 2.83L4 21.41c.39.39.9.59 1.41.59.51 0 1.02-.2 1.41-.59l7.78-7.78 2.81-2.81c.8-.78.8-2.07 0-2.86zM5.41 20L4 18.59l7.72-7.72 1.47 1.35L5.41 20z\"/>\n",
              "  </svg>\n",
              "      </button>\n",
              "      \n",
              "  <style>\n",
              "    .colab-df-container {\n",
              "      display:flex;\n",
              "      flex-wrap:wrap;\n",
              "      gap: 12px;\n",
              "    }\n",
              "\n",
              "    .colab-df-convert {\n",
              "      background-color: #E8F0FE;\n",
              "      border: none;\n",
              "      border-radius: 50%;\n",
              "      cursor: pointer;\n",
              "      display: none;\n",
              "      fill: #1967D2;\n",
              "      height: 32px;\n",
              "      padding: 0 0 0 0;\n",
              "      width: 32px;\n",
              "    }\n",
              "\n",
              "    .colab-df-convert:hover {\n",
              "      background-color: #E2EBFA;\n",
              "      box-shadow: 0px 1px 2px rgba(60, 64, 67, 0.3), 0px 1px 3px 1px rgba(60, 64, 67, 0.15);\n",
              "      fill: #174EA6;\n",
              "    }\n",
              "\n",
              "    [theme=dark] .colab-df-convert {\n",
              "      background-color: #3B4455;\n",
              "      fill: #D2E3FC;\n",
              "    }\n",
              "\n",
              "    [theme=dark] .colab-df-convert:hover {\n",
              "      background-color: #434B5C;\n",
              "      box-shadow: 0px 1px 3px 1px rgba(0, 0, 0, 0.15);\n",
              "      filter: drop-shadow(0px 1px 2px rgba(0, 0, 0, 0.3));\n",
              "      fill: #FFFFFF;\n",
              "    }\n",
              "  </style>\n",
              "\n",
              "      <script>\n",
              "        const buttonEl =\n",
              "          document.querySelector('#df-b1631678-37ef-4899-91d2-13a19f500ddb button.colab-df-convert');\n",
              "        buttonEl.style.display =\n",
              "          google.colab.kernel.accessAllowed ? 'block' : 'none';\n",
              "\n",
              "        async function convertToInteractive(key) {\n",
              "          const element = document.querySelector('#df-b1631678-37ef-4899-91d2-13a19f500ddb');\n",
              "          const dataTable =\n",
              "            await google.colab.kernel.invokeFunction('convertToInteractive',\n",
              "                                                     [key], {});\n",
              "          if (!dataTable) return;\n",
              "\n",
              "          const docLinkHtml = 'Like what you see? Visit the ' +\n",
              "            '<a target=\"_blank\" href=https://colab.research.google.com/notebooks/data_table.ipynb>data table notebook</a>'\n",
              "            + ' to learn more about interactive tables.';\n",
              "          element.innerHTML = '';\n",
              "          dataTable['output_type'] = 'display_data';\n",
              "          await google.colab.output.renderOutput(dataTable, element);\n",
              "          const docLink = document.createElement('div');\n",
              "          docLink.innerHTML = docLinkHtml;\n",
              "          element.appendChild(docLink);\n",
              "        }\n",
              "      </script>\n",
              "    </div>\n",
              "  </div>\n",
              "  "
            ]
          },
          "metadata": {},
          "execution_count": 12
        }
      ]
    },
    {
      "cell_type": "markdown",
      "source": [
        "# 텍스트분석 전처리"
      ],
      "metadata": {
        "id": "MQw1ty4R8o-K"
      }
    },
    {
      "cell_type": "markdown",
      "source": [
        "## 라이브러리"
      ],
      "metadata": {
        "id": "1aPj4Id0olIH"
      }
    },
    {
      "cell_type": "code",
      "source": [
        "!pip install konlpy"
      ],
      "metadata": {
        "colab": {
          "base_uri": "https://localhost:8080/"
        },
        "id": "OJZYkAcycNcn",
        "outputId": "cf86d89f-8b7b-4cfb-f47a-8c94a18e41de"
      },
      "execution_count": null,
      "outputs": [
        {
          "output_type": "stream",
          "name": "stdout",
          "text": [
            "Looking in indexes: https://pypi.org/simple, https://us-python.pkg.dev/colab-wheels/public/simple/\n",
            "Collecting konlpy\n",
            "  Downloading konlpy-0.6.0-py2.py3-none-any.whl (19.4 MB)\n",
            "\u001b[K     |████████████████████████████████| 19.4 MB 1.4 MB/s \n",
            "\u001b[?25hRequirement already satisfied: numpy>=1.6 in /usr/local/lib/python3.7/dist-packages (from konlpy) (1.21.6)\n",
            "Collecting JPype1>=0.7.0\n",
            "  Downloading JPype1-1.4.0-cp37-cp37m-manylinux_2_5_x86_64.manylinux1_x86_64.whl (453 kB)\n",
            "\u001b[K     |████████████████████████████████| 453 kB 44.3 MB/s \n",
            "\u001b[?25hRequirement already satisfied: lxml>=4.1.0 in /usr/local/lib/python3.7/dist-packages (from konlpy) (4.2.6)\n",
            "Requirement already satisfied: typing-extensions in /usr/local/lib/python3.7/dist-packages (from JPype1>=0.7.0->konlpy) (4.2.0)\n",
            "Installing collected packages: JPype1, konlpy\n",
            "Successfully installed JPype1-1.4.0 konlpy-0.6.0\n"
          ]
        }
      ]
    },
    {
      "cell_type": "code",
      "source": [
        "from konlpy.tag import Okt\n",
        "from tensorflow.keras.preprocessing.sequence import pad_sequences\n",
        "from tensorflow.keras.preprocessing.text import Tokenizer"
      ],
      "metadata": {
        "id": "U6yHn4KgcMWj"
      },
      "execution_count": null,
      "outputs": []
    },
    {
      "cell_type": "markdown",
      "source": [
        "맞춤법 교정 패키지"
      ],
      "metadata": {
        "id": "CT4EUl39f2yc"
      }
    },
    {
      "cell_type": "code",
      "source": [
        "#!pip install git+https://github.com/ssut/py-hanspell.git"
      ],
      "metadata": {
        "id": "wK1jVEoXfo2y"
      },
      "execution_count": null,
      "outputs": []
    },
    {
      "cell_type": "markdown",
      "source": [
        "단어 토크나이저 soynlp"
      ],
      "metadata": {
        "id": "yz7B4PIB9l5c"
      }
    },
    {
      "cell_type": "code",
      "source": [
        "!pip install soynlp"
      ],
      "metadata": {
        "id": "b1ePuVG39lLY"
      },
      "execution_count": null,
      "outputs": []
    },
    {
      "cell_type": "markdown",
      "source": [
        "## 형태소분석 / 불용어처리"
      ],
      "metadata": {
        "id": "k0NpZYJ8dmtj"
      }
    },
    {
      "cell_type": "code",
      "source": [
        "import re\n",
        "from soynlp.normalizer import *\n",
        "\n",
        "def preprocessing(text, okt, remove_stopwords = False, stop_words = []):\n",
        "    # remove_stopword : 불용어를 제거할지 선택 기본값은 False\n",
        "    # stop_word : 불용어 사전은 사용자가 직접 입력해야함 기본값은 비어있는 리스트\n",
        "\n",
        "    # 한글 및 공백을 제외한 문자 모두 제거.\n",
        "    text1 = re.sub(\"[^가-힣ㄱ-ㅎㅏ-ㅣ\\\\s]\", \"\", text)\n",
        "\n",
        "\n",
        "    repeat_text = repeat_normalize(text1, num_repeats=2)\n",
        "\n",
        "    # okt 객체를 활용해서 형태소 단위로 나눈다.\n",
        "    word = okt.morphs(repeat_text, stem=True)\n",
        "\n",
        "    # 불용어 제거(선택적)\n",
        "    if remove_stopwords:\n",
        "        word = [token for token in word if not token in stop_words]\n",
        "\n",
        "    return word"
      ],
      "metadata": {
        "id": "ceBbUQu1h_gQ"
      },
      "execution_count": null,
      "outputs": []
    },
    {
      "cell_type": "code",
      "source": [
        "#test1 = spell_checker.check('외않되')\n",
        "\n",
        "#test1.checked"
      ],
      "metadata": {
        "id": "huN-KB9hiyEl"
      },
      "execution_count": null,
      "outputs": []
    },
    {
      "cell_type": "code",
      "source": [
        "# 불용어 제거\n",
        "stop_words=set(['은','는','이','가','하','아','들','의','있','수','보','주','등','한','안','때','지','두', '이모티콘', '페이스톡 해요', '(광고)',\n",
        "                'ㄱ','ㄴ','ㄷ','ㄹ','ㅁ','ㅂ','ㅅ','ㅇ','ㅈ','ㅊ','ㅋ','ㅌ','ㅍ','ㅎ','ㅛ','ㅕ','ㅑ','ㅐ','ㅔ','ㅗ','ㅓ','ㅏ','ㅣ','ㅠ','ㅜ','ㅡ',\n",
        "                'ㅃ','ㅉ','ㄸ','ㄲ','ㅆ','ㅒ','ㅖ','ㅚ','ㅟ','ㅢ','ㅘ','ㅙ','ㅞ','ㅝ','ㄳ','ㄵ','ㄶ','ㄺ','ㄻ','ㄼ','ㄽ','ㄾ','ㄿ','ㅀ','ㅄ','ㅋㅋ','ㅇㅇ'])\n",
        "\n",
        "\n",
        "\n",
        "okt=Okt()\n",
        "clean_text=[]\n",
        "\n",
        "for text in df['phising']:\n",
        "    # 비어있는 데이터에서 멈추지 않도록 문자열인 경우에만 진행\n",
        "    if type(text)==str:\n",
        "        clean_text.append(preprocessing(text, okt, remove_stopwords=True, stop_words=stop_words))\n",
        "    else:\n",
        "        # string이 아니면 비어있는 값 추가\n",
        "        clean_text.append([])\n",
        "\n",
        "clean_text[:5]"
      ],
      "metadata": {
        "id": "LeMUyIL9h_dO",
        "colab": {
          "base_uri": "https://localhost:8080/"
        },
        "outputId": "df8b6817-dbaf-41c6-d05f-7fd398b56c9b"
      },
      "execution_count": null,
      "outputs": [
        {
          "output_type": "execute_result",
          "data": {
            "text/plain": [
              "[['엄마',\n",
              "  '바쁘다',\n",
              "  '지금',\n",
              "  '핸드폰',\n",
              "  '액정',\n",
              "  '나가다',\n",
              "  '매장',\n",
              "  '에',\n",
              "  '맡다',\n",
              "  '컴퓨터',\n",
              "  '로',\n",
              "  '카톡',\n",
              "  '하다',\n",
              "  '엄마',\n",
              "  '지금',\n",
              "  '시간',\n",
              "  '있다',\n",
              "  '친하다',\n",
              "  '선배',\n",
              "  '문화',\n",
              "  '상품권',\n",
              "  '사',\n",
              "  '달라',\n",
              "  '고',\n",
              "  '부탁',\n",
              "  '하다',\n",
              "  '핸드폰',\n",
              "  '고장',\n",
              "  '나서다',\n",
              "  '못',\n",
              "  '하고',\n",
              "  '있다',\n",
              "  '엄마',\n",
              "  '먼저',\n",
              "  '사주다',\n",
              "  '가깝다',\n",
              "  '편의점',\n",
              "  '에',\n",
              "  '가다',\n",
              "  '문화',\n",
              "  '상품권',\n",
              "  '만원',\n",
              "  '권',\n",
              "  '장',\n",
              "  '구입',\n",
              "  '해주다',\n",
              "  '엄마',\n",
              "  '구입',\n",
              "  '하다',\n",
              "  '톡',\n",
              "  '주다',\n",
              "  '현금',\n",
              "  '으로',\n",
              "  '상품권',\n",
              "  '구입',\n",
              "  '하다',\n",
              "  '있다',\n",
              "  '엄마',\n",
              "  '돼다',\n",
              "  '엄마',\n",
              "  '맞다',\n",
              "  '엄마',\n",
              "  '현금',\n",
              "  '찾다',\n",
              "  '구입',\n",
              "  '해주다',\n",
              "  '엄마',\n",
              "  '구입',\n",
              "  '하다',\n",
              "  '엄마'],\n",
              " ['언니',\n",
              "  '바쁘다',\n",
              "  '부탁',\n",
              "  '하나',\n",
              "  '만',\n",
              "  '해도',\n",
              "  '돼다',\n",
              "  '지금',\n",
              "  '급하다',\n",
              "  '송금',\n",
              "  '하다',\n",
              "  '데',\n",
              "  '있다',\n",
              "  '그렇다',\n",
              "  '대신',\n",
              "  '해주다',\n",
              "  '돼다',\n",
              "  '저녁',\n",
              "  '에',\n",
              "  '다시',\n",
              "  '보내다',\n",
              "  '알다'],\n",
              " ['바쁘다',\n",
              "  '이모',\n",
              "  '부탁',\n",
              "  '잇다',\n",
              "  '그렇다',\n",
              "  '급하다',\n",
              "  '송금',\n",
              "  '하다',\n",
              "  '있다',\n",
              "  '이모',\n",
              "  '먼저',\n",
              "  '보내다',\n",
              "  '돼다',\n",
              "  '내일',\n",
              "  '오전',\n",
              "  '으로',\n",
              "  '보내다',\n",
              "  '만',\n",
              "  '천원'],\n",
              " ['아빠',\n",
              "  '저',\n",
              "  '핸드폰',\n",
              "  '액정',\n",
              "  '깨다',\n",
              "  '컴퓨터',\n",
              "  '로',\n",
              "  '카톡',\n",
              "  '을',\n",
              "  '하다',\n",
              "  '있다',\n",
              "  'ㅠㅠ',\n",
              "  '아빠',\n",
              "  '들다',\n",
              "  '네',\n",
              "  '내일',\n",
              "  '찾다',\n",
              "  '가야',\n",
              "  '해',\n",
              "  '요',\n",
              "  '아빠',\n",
              "  '지금',\n",
              "  '바쁘다',\n",
              "  'ㅠㅠ',\n",
              "  '괜찮다',\n",
              "  '약',\n",
              "  '챙기다',\n",
              "  '들다',\n",
              "  '아빠',\n",
              "  '이체',\n",
              "  '하나',\n",
              "  '만',\n",
              "  '해주다',\n",
              "  '급하다',\n",
              "  '송금',\n",
              "  '하다',\n",
              "  '하다',\n",
              "  '곳',\n",
              "  '있다',\n",
              "  '핸드폰',\n",
              "  '맡기다',\n",
              "  '이체',\n",
              "  '돼다',\n",
              "  '그렇다',\n",
              "  '인증서',\n",
              "  '오류',\n",
              "  '시',\n",
              "  '쯤',\n",
              "  '오류',\n",
              "  '풀리다',\n",
              "  '하니',\n",
              "  '시',\n",
              "  '전',\n",
              "  '으로',\n",
              "  '다시',\n",
              "  '넣다',\n",
              "  '드리다',\n",
              "  '계좌',\n",
              "  '이체',\n",
              "  '요',\n",
              "  '송금',\n",
              "  '아빠',\n",
              "  '잔고',\n",
              "  '어떻다',\n",
              "  '돼다'],\n",
              " ['엄마',\n",
              "  '지금',\n",
              "  '바쁘다',\n",
              "  '나',\n",
              "  '핸드폰',\n",
              "  '액정',\n",
              "  '고장',\n",
              "  '나서다',\n",
              "  '수리',\n",
              "  '맡다',\n",
              "  '컴터',\n",
              "  '로',\n",
              "  '카톡',\n",
              "  '오르다',\n",
              "  '지금',\n",
              "  '많이',\n",
              "  '바쁘다',\n",
              "  '바쁘다',\n",
              "  '머',\n",
              "  '좀',\n",
              "  '부탁',\n",
              "  '하다',\n",
              "  '친하다',\n",
              "  '선배',\n",
              "  '한테',\n",
              "  '입금',\n",
              "  '먼저',\n",
              "  '받다',\n",
              "  '문화',\n",
              "  '상품권',\n",
              "  '구매',\n",
              "  '부탁',\n",
              "  '을',\n",
              "  '받다',\n",
              "  '폰땜',\n",
              "  '에',\n",
              "  '내다',\n",
              "  '온라인',\n",
              "  '주문',\n",
              "  '돼다',\n",
              "  '엄마',\n",
              "  '꺼',\n",
              "  '로',\n",
              "  '먼저',\n",
              "  '주문',\n",
              "  '하고',\n",
              "  '폰',\n",
              "  '찾다',\n",
              "  '입금',\n",
              "  '하다',\n",
              "  '돼다',\n",
              "  '사람',\n",
              "  '당',\n",
              "  '구매',\n",
              "  '한도',\n",
              "  '제한',\n",
              "  '되다',\n",
              "  '부탁',\n",
              "  '받다',\n",
              "  '할인',\n",
              "  '이라',\n",
              "  '장',\n",
              "  '면',\n",
              "  '만',\n",
              "  '이득',\n",
              "  '보다',\n",
              "  '엄마',\n",
              "  '위메프',\n",
              "  '아이디',\n",
              "  '없다',\n",
              "  '아이디',\n",
              "  '만들다',\n",
              "  '장바구니',\n",
              "  '에',\n",
              "  '담다',\n",
              "  '카드',\n",
              "  '로만',\n",
              "  '결제',\n",
              "  '되다',\n",
              "  '엄마',\n",
              "  '꺼',\n",
              "  '위메프',\n",
              "  '아이디',\n",
              "  '가입',\n",
              "  '되어다',\n",
              "  '나오다',\n",
              "  '알다',\n",
              "  '여기',\n",
              "  '로',\n",
              "  '보내다',\n",
              "  '비번',\n",
              "  '보고',\n",
              "  '바로',\n",
              "  '삭제',\n",
              "  '하다',\n",
              "  '아이디',\n",
              "  '엄마',\n",
              "  '꺼',\n",
              "  '어디',\n",
              "  '카드',\n",
              "  '로',\n",
              "  '결제',\n",
              "  '려고',\n",
              "  '엄마',\n",
              "  '롯데',\n",
              "  '한번',\n",
              "  '에',\n",
              "  '한장',\n",
              "  '씩',\n",
              "  '장',\n",
              "  '밖에',\n",
              "  '주문',\n",
              "  '안되다',\n",
              "  '현',\n",
              "  '대',\n",
              "  '카드',\n",
              "  '로',\n",
              "  '결제',\n",
              "  '도와주다',\n",
              "  '장바구니',\n",
              "  '에',\n",
              "  '장',\n",
              "  '담다',\n",
              "  '전화',\n",
              "  '안되다']]"
            ]
          },
          "metadata": {},
          "execution_count": 21
        }
      ]
    },
    {
      "cell_type": "code",
      "source": [
        "df['clean_text'] = clean_text\n",
        "df"
      ],
      "metadata": {
        "colab": {
          "base_uri": "https://localhost:8080/",
          "height": 901
        },
        "id": "zvo_uvHHgAAZ",
        "outputId": "fccfa102-a7f2-4ab2-f0d9-510a5932cd22"
      },
      "execution_count": null,
      "outputs": [
        {
          "output_type": "execute_result",
          "data": {
            "text/plain": [
              "    label                                            phising  \\\n",
              "0       1  엄마 바빠? 지금 핸드폰 액정 나가서 매장에 맡기고 컴퓨터로 카톡 하고있어 엄마 지...   \n",
              "1       1  언니 바빠? 부탁 하나만 해도 돼? 지금 급히 송금할 데 있어 그러는데 대신 해주면...   \n",
              "2       1  바뻐? 이모 부탁잇어 그러는데… 급히 송금할거 있는데, 이모 먼저 보내주면 안돼? ...   \n",
              "3       1  아빠 저 핸드폰 액정이 깨져서 컴퓨터로 카톡을 하고 있어요ㅠㅠ 아빠 안들려요? 네 ...   \n",
              "4       1  엄마 지금 바빠? 나 핸드폰 액정 고장나서 수리 맡기고 컴터로 카톡올랐어 지금 많이...   \n",
              "..    ...                                                ...   \n",
              "360     0                                              사진 우에   \n",
              "361     0  웨이터 너어디야 왜 사진 좀 귀엽지 알아 ㅋㅋㅋㅋㅋㅋㅋㅋㅋㅋㅋㅋㅋㅋㅋㅋㅋㅋ 이모티콘...   \n",
              "362     0  복수동에서 은행동가는길 알려주면 용서해줌 어디서 314타 어느방향으로 어뜨케 ㅍ ?...   \n",
              "363     0                    제발 그랬으면 옵치만 하야디 그딴건 모르겠고 난 주짓수가   \n",
              "364     0                       내일 뭐함? 뿅뿅떠나네 나는 동아리없음 아하 왜가냥   \n",
              "\n",
              "                                                    me  \\\n",
              "0    아 ~~그래 어떻게 그래서 어떻게 하면 되는데 알았어 핸드폰으로 구입하는거니 카드는...   \n",
              "1             왜 머 미친ㅡㅡ 야 니가 나보다 돈 더 많잖아 없어 돈 바빠죽겠는데 진짜   \n",
              "2    수업하는중 오늘 학교 안갔어? 무슨 부탁?ㅎㅎ 얼마정도 필요한데? ㅋㅋ 너 미쳤구나...   \n",
              "3    아직도 전화안대니 알앗다 건강 조심하고 아빤 설사 병낫다 병원 갔다 왔다 이체가 뭔...   \n",
              "4    알겠어염 왜? 부탁해봐 그럼 그 선배한테 사라고 하면 안돼? 그래 해줄게 글쎄 없을...   \n",
              "..                                                 ...   \n",
              "360                                        오잉 뚫었니? 웨에ㅔ   \n",
              "361  터미네이터 가오동 할머니댁왔는데; 너무기엽다 뭉치 ㅠㅠ ...? 이모티콘  이모티콘...   \n",
              "362  314 타고 으능정이에서 내리렴 초록3에서 타도 되고 신계초에서 타도돼ㅐ 방향ㅇ기억...   \n",
              "363                  호 ㅗㅗ 힝 난집간당 오늘ㄹ시사회가 ㅎ헤헿 힝밍밍 이제집가용   \n",
              "364         엠티 가요 헤헿ㅎ 넘좋 나도없는뎅 이거 동아리엠티아니고 동기엠티 ? 재미짜낭   \n",
              "\n",
              "                                            clean_text  \n",
              "0    [엄마, 바쁘다, 지금, 핸드폰, 액정, 나가다, 매장, 에, 맡다, 컴퓨터, 로,...  \n",
              "1    [언니, 바쁘다, 부탁, 하나, 만, 해도, 돼다, 지금, 급하다, 송금, 하다, ...  \n",
              "2    [바쁘다, 이모, 부탁, 잇다, 그렇다, 급하다, 송금, 하다, 있다, 이모, 먼저...  \n",
              "3    [아빠, 저, 핸드폰, 액정, 깨다, 컴퓨터, 로, 카톡, 을, 하다, 있다, ㅠㅠ...  \n",
              "4    [엄마, 지금, 바쁘다, 나, 핸드폰, 액정, 고장, 나서다, 수리, 맡다, 컴터,...  \n",
              "..                                                 ...  \n",
              "360                                         [사진, 우, 에]  \n",
              "361  [웨이터, 너, 어디, 야, 왜, 사진, 좀, 귀엽다, 알, 나다, 저, 사주다, ...  \n",
              "362  [복수동, 에서, 은행동, 가다, 알다, 용서, 해주다, 어디서, 타, 어느, 방향...  \n",
              "363             [제발, 그렇다, 오다, 하얗다, 그딴, 건, 모르다, 난, 주짓수]  \n",
              "364            [내일, 뭐함, 뿅뿅, 떠나다, 나, 동아리, 없다, 아하, 왜, 냥]  \n",
              "\n",
              "[365 rows x 4 columns]"
            ],
            "text/html": [
              "\n",
              "  <div id=\"df-e9d9f4b7-e151-4947-9469-5db7db82f297\">\n",
              "    <div class=\"colab-df-container\">\n",
              "      <div>\n",
              "<style scoped>\n",
              "    .dataframe tbody tr th:only-of-type {\n",
              "        vertical-align: middle;\n",
              "    }\n",
              "\n",
              "    .dataframe tbody tr th {\n",
              "        vertical-align: top;\n",
              "    }\n",
              "\n",
              "    .dataframe thead th {\n",
              "        text-align: right;\n",
              "    }\n",
              "</style>\n",
              "<table border=\"1\" class=\"dataframe\">\n",
              "  <thead>\n",
              "    <tr style=\"text-align: right;\">\n",
              "      <th></th>\n",
              "      <th>label</th>\n",
              "      <th>phising</th>\n",
              "      <th>me</th>\n",
              "      <th>clean_text</th>\n",
              "    </tr>\n",
              "  </thead>\n",
              "  <tbody>\n",
              "    <tr>\n",
              "      <th>0</th>\n",
              "      <td>1</td>\n",
              "      <td>엄마 바빠? 지금 핸드폰 액정 나가서 매장에 맡기고 컴퓨터로 카톡 하고있어 엄마 지...</td>\n",
              "      <td>아 ~~그래 어떻게 그래서 어떻게 하면 되는데 알았어 핸드폰으로 구입하는거니 카드는...</td>\n",
              "      <td>[엄마, 바쁘다, 지금, 핸드폰, 액정, 나가다, 매장, 에, 맡다, 컴퓨터, 로,...</td>\n",
              "    </tr>\n",
              "    <tr>\n",
              "      <th>1</th>\n",
              "      <td>1</td>\n",
              "      <td>언니 바빠? 부탁 하나만 해도 돼? 지금 급히 송금할 데 있어 그러는데 대신 해주면...</td>\n",
              "      <td>왜 머 미친ㅡㅡ 야 니가 나보다 돈 더 많잖아 없어 돈 바빠죽겠는데 진짜</td>\n",
              "      <td>[언니, 바쁘다, 부탁, 하나, 만, 해도, 돼다, 지금, 급하다, 송금, 하다, ...</td>\n",
              "    </tr>\n",
              "    <tr>\n",
              "      <th>2</th>\n",
              "      <td>1</td>\n",
              "      <td>바뻐? 이모 부탁잇어 그러는데… 급히 송금할거 있는데, 이모 먼저 보내주면 안돼? ...</td>\n",
              "      <td>수업하는중 오늘 학교 안갔어? 무슨 부탁?ㅎㅎ 얼마정도 필요한데? ㅋㅋ 너 미쳤구나...</td>\n",
              "      <td>[바쁘다, 이모, 부탁, 잇다, 그렇다, 급하다, 송금, 하다, 있다, 이모, 먼저...</td>\n",
              "    </tr>\n",
              "    <tr>\n",
              "      <th>3</th>\n",
              "      <td>1</td>\n",
              "      <td>아빠 저 핸드폰 액정이 깨져서 컴퓨터로 카톡을 하고 있어요ㅠㅠ 아빠 안들려요? 네 ...</td>\n",
              "      <td>아직도 전화안대니 알앗다 건강 조심하고 아빤 설사 병낫다 병원 갔다 왔다 이체가 뭔...</td>\n",
              "      <td>[아빠, 저, 핸드폰, 액정, 깨다, 컴퓨터, 로, 카톡, 을, 하다, 있다, ㅠㅠ...</td>\n",
              "    </tr>\n",
              "    <tr>\n",
              "      <th>4</th>\n",
              "      <td>1</td>\n",
              "      <td>엄마 지금 바빠? 나 핸드폰 액정 고장나서 수리 맡기고 컴터로 카톡올랐어 지금 많이...</td>\n",
              "      <td>알겠어염 왜? 부탁해봐 그럼 그 선배한테 사라고 하면 안돼? 그래 해줄게 글쎄 없을...</td>\n",
              "      <td>[엄마, 지금, 바쁘다, 나, 핸드폰, 액정, 고장, 나서다, 수리, 맡다, 컴터,...</td>\n",
              "    </tr>\n",
              "    <tr>\n",
              "      <th>...</th>\n",
              "      <td>...</td>\n",
              "      <td>...</td>\n",
              "      <td>...</td>\n",
              "      <td>...</td>\n",
              "    </tr>\n",
              "    <tr>\n",
              "      <th>360</th>\n",
              "      <td>0</td>\n",
              "      <td>사진 우에</td>\n",
              "      <td>오잉 뚫었니? 웨에ㅔ</td>\n",
              "      <td>[사진, 우, 에]</td>\n",
              "    </tr>\n",
              "    <tr>\n",
              "      <th>361</th>\n",
              "      <td>0</td>\n",
              "      <td>웨이터 너어디야 왜 사진 좀 귀엽지 알아 ㅋㅋㅋㅋㅋㅋㅋㅋㅋㅋㅋㅋㅋㅋㅋㅋㅋㅋ 이모티콘...</td>\n",
              "      <td>터미네이터 가오동 할머니댁왔는데; 너무기엽다 뭉치 ㅠㅠ ...? 이모티콘  이모티콘...</td>\n",
              "      <td>[웨이터, 너, 어디, 야, 왜, 사진, 좀, 귀엽다, 알, 나다, 저, 사주다, ...</td>\n",
              "    </tr>\n",
              "    <tr>\n",
              "      <th>362</th>\n",
              "      <td>0</td>\n",
              "      <td>복수동에서 은행동가는길 알려주면 용서해줌 어디서 314타 어느방향으로 어뜨케 ㅍ ?...</td>\n",
              "      <td>314 타고 으능정이에서 내리렴 초록3에서 타도 되고 신계초에서 타도돼ㅐ 방향ㅇ기억...</td>\n",
              "      <td>[복수동, 에서, 은행동, 가다, 알다, 용서, 해주다, 어디서, 타, 어느, 방향...</td>\n",
              "    </tr>\n",
              "    <tr>\n",
              "      <th>363</th>\n",
              "      <td>0</td>\n",
              "      <td>제발 그랬으면 옵치만 하야디 그딴건 모르겠고 난 주짓수가</td>\n",
              "      <td>호 ㅗㅗ 힝 난집간당 오늘ㄹ시사회가 ㅎ헤헿 힝밍밍 이제집가용</td>\n",
              "      <td>[제발, 그렇다, 오다, 하얗다, 그딴, 건, 모르다, 난, 주짓수]</td>\n",
              "    </tr>\n",
              "    <tr>\n",
              "      <th>364</th>\n",
              "      <td>0</td>\n",
              "      <td>내일 뭐함? 뿅뿅떠나네 나는 동아리없음 아하 왜가냥</td>\n",
              "      <td>엠티 가요 헤헿ㅎ 넘좋 나도없는뎅 이거 동아리엠티아니고 동기엠티 ? 재미짜낭</td>\n",
              "      <td>[내일, 뭐함, 뿅뿅, 떠나다, 나, 동아리, 없다, 아하, 왜, 냥]</td>\n",
              "    </tr>\n",
              "  </tbody>\n",
              "</table>\n",
              "<p>365 rows × 4 columns</p>\n",
              "</div>\n",
              "      <button class=\"colab-df-convert\" onclick=\"convertToInteractive('df-e9d9f4b7-e151-4947-9469-5db7db82f297')\"\n",
              "              title=\"Convert this dataframe to an interactive table.\"\n",
              "              style=\"display:none;\">\n",
              "        \n",
              "  <svg xmlns=\"http://www.w3.org/2000/svg\" height=\"24px\"viewBox=\"0 0 24 24\"\n",
              "       width=\"24px\">\n",
              "    <path d=\"M0 0h24v24H0V0z\" fill=\"none\"/>\n",
              "    <path d=\"M18.56 5.44l.94 2.06.94-2.06 2.06-.94-2.06-.94-.94-2.06-.94 2.06-2.06.94zm-11 1L8.5 8.5l.94-2.06 2.06-.94-2.06-.94L8.5 2.5l-.94 2.06-2.06.94zm10 10l.94 2.06.94-2.06 2.06-.94-2.06-.94-.94-2.06-.94 2.06-2.06.94z\"/><path d=\"M17.41 7.96l-1.37-1.37c-.4-.4-.92-.59-1.43-.59-.52 0-1.04.2-1.43.59L10.3 9.45l-7.72 7.72c-.78.78-.78 2.05 0 2.83L4 21.41c.39.39.9.59 1.41.59.51 0 1.02-.2 1.41-.59l7.78-7.78 2.81-2.81c.8-.78.8-2.07 0-2.86zM5.41 20L4 18.59l7.72-7.72 1.47 1.35L5.41 20z\"/>\n",
              "  </svg>\n",
              "      </button>\n",
              "      \n",
              "  <style>\n",
              "    .colab-df-container {\n",
              "      display:flex;\n",
              "      flex-wrap:wrap;\n",
              "      gap: 12px;\n",
              "    }\n",
              "\n",
              "    .colab-df-convert {\n",
              "      background-color: #E8F0FE;\n",
              "      border: none;\n",
              "      border-radius: 50%;\n",
              "      cursor: pointer;\n",
              "      display: none;\n",
              "      fill: #1967D2;\n",
              "      height: 32px;\n",
              "      padding: 0 0 0 0;\n",
              "      width: 32px;\n",
              "    }\n",
              "\n",
              "    .colab-df-convert:hover {\n",
              "      background-color: #E2EBFA;\n",
              "      box-shadow: 0px 1px 2px rgba(60, 64, 67, 0.3), 0px 1px 3px 1px rgba(60, 64, 67, 0.15);\n",
              "      fill: #174EA6;\n",
              "    }\n",
              "\n",
              "    [theme=dark] .colab-df-convert {\n",
              "      background-color: #3B4455;\n",
              "      fill: #D2E3FC;\n",
              "    }\n",
              "\n",
              "    [theme=dark] .colab-df-convert:hover {\n",
              "      background-color: #434B5C;\n",
              "      box-shadow: 0px 1px 3px 1px rgba(0, 0, 0, 0.15);\n",
              "      filter: drop-shadow(0px 1px 2px rgba(0, 0, 0, 0.3));\n",
              "      fill: #FFFFFF;\n",
              "    }\n",
              "  </style>\n",
              "\n",
              "      <script>\n",
              "        const buttonEl =\n",
              "          document.querySelector('#df-e9d9f4b7-e151-4947-9469-5db7db82f297 button.colab-df-convert');\n",
              "        buttonEl.style.display =\n",
              "          google.colab.kernel.accessAllowed ? 'block' : 'none';\n",
              "\n",
              "        async function convertToInteractive(key) {\n",
              "          const element = document.querySelector('#df-e9d9f4b7-e151-4947-9469-5db7db82f297');\n",
              "          const dataTable =\n",
              "            await google.colab.kernel.invokeFunction('convertToInteractive',\n",
              "                                                     [key], {});\n",
              "          if (!dataTable) return;\n",
              "\n",
              "          const docLinkHtml = 'Like what you see? Visit the ' +\n",
              "            '<a target=\"_blank\" href=https://colab.research.google.com/notebooks/data_table.ipynb>data table notebook</a>'\n",
              "            + ' to learn more about interactive tables.';\n",
              "          element.innerHTML = '';\n",
              "          dataTable['output_type'] = 'display_data';\n",
              "          await google.colab.output.renderOutput(dataTable, element);\n",
              "          const docLink = document.createElement('div');\n",
              "          docLink.innerHTML = docLinkHtml;\n",
              "          element.appendChild(docLink);\n",
              "        }\n",
              "      </script>\n",
              "    </div>\n",
              "  </div>\n",
              "  "
            ]
          },
          "metadata": {},
          "execution_count": 25
        }
      ]
    },
    {
      "cell_type": "markdown",
      "source": [
        "## 정수 인코딩 / 패딩"
      ],
      "metadata": {
        "id": "rn2M4N9oca-d"
      }
    },
    {
      "cell_type": "code",
      "source": [
        "# 정수 인코딩\n",
        "tokenizer=Tokenizer()\n",
        "tokenizer.fit_on_texts(clean_text)\n",
        "print(tokenizer.word_index)\n",
        "train_sequences=tokenizer.texts_to_sequences(clean_text)\n",
        "\n",
        "# 단어 사전 형태\n",
        "word_vocab=tokenizer.word_index\n",
        "\n",
        "# 문장 최대 길이\n",
        "MAX_SEQUENCE_LENGTH=100\n",
        "\n",
        "# 학습 데이터를 벡터화\n",
        "train_inputs = pad_sequences(train_sequences, maxlen=MAX_SEQUENCE_LENGTH, padding='post')\n",
        "# 학습 데이터의 라벨\n",
        "train_labels = np.array([df['label']])\n"
      ],
      "metadata": {
        "colab": {
          "base_uri": "https://localhost:8080/"
        },
        "id": "a83p9P6MiCwm",
        "outputId": "9120807d-b349-4bde-cfe2-2047b2b2fecb"
      },
      "execution_count": null,
      "outputs": [
        {
          "output_type": "stream",
          "name": "stdout",
          "text": [
            "{'하다': 1, '엄마': 2, '있다': 3, '에': 4, '지금': 5, '나': 6, '해주다': 7, '되다': 8, '폰': 9, '보내다': 10, '로': 11, '그렇다': 12, '부탁': 13, '돼다': 14, '만': 15, '급하다': 16, '으로': 17, '바쁘다': 18, '받다': 19, '안되다': 20, '을': 21, '요': 22, '사진': 23, '내': 24, '구매': 25, '먼저': 26, '이체': 27, '돈': 28, '아니다': 29, '없다': 30, '하고': 31, '아빠': 32, '좀': 33, '가다': 34, '보다': 35, '톡': 36, '수리': 37, '한테': 38, '뭐': 39, '고장': 40, '만원': 41, '알다': 42, '도': 43, '송금': 44, '대신': 45, '를': 46, '이다': 47, '맡다': 48, '중': 49, '저': 50, '스톡': 51, '나서다': 52, '잇다': 53, '시': 54, '핸드폰': 55, '계좌': 56, '친구': 57, '하나': 58, '거': 59, '제': 60, '카톡': 61, '해': 62, '드리다': 63, '네': 64, '가능하다': 65, '못': 66, '에서': 67, '너': 68, '문자': 69, 'ㅠㅠ': 70, '야': 71, '주다': 72, '나오다': 73, '인증': 74, '같다': 75, '나가다': 76, '상품권': 77, '다시': 78, '언니': 79, '오류': 80, '근데': 81, '시간': 82, '확인': 83, '넣다': 84, '이야': 85, '결제': 86, '선배': 87, '통장': 88, '왜': 89, '일': 90, '액정': 91, '맞다': 92, '바로': 93, '님': 94, '보이': 95, '오늘': 96, '추가': 97, '다': 98, '먹다': 99, '오다': 100, '컴퓨터': 101, '찾다': 102, '입금': 103, '해도': 104, '인증서': 105, '서': 106, '필요하다': 107, '편의점': 108, '이모': 109, '오후': 110, '인데': 111, '명의': 112, '면': 113, '응': 114, '까지': 115, 'ㅜㅜ': 116, '본인': 117, '장': 118, '들다': 119, '땜': 120, '혹시': 121, '집': 122, '카드': 123, '그냥': 124, '번호': 125, '잠시': 126, '찍다': 127, '당신': 128, '페이': 129, '여기': 130, '말': 131, '나다': 132, 'ㅅㅂ': 133, '게': 134, '것': 135, '고': 136, '않다': 137, '가입': 138, '접속': 139, '뜨다': 140, '잠깐': 141, '라': 142, '끝나다': 143, '저녁': 144, '내일': 145, '쯤': 146, '어디': 147, '개': 148, '어': 149, '푸다': 150, '항항': 151, '문화': 152, '원': 153, '우리': 154, '사': 155, '권': 156, '곳': 157, '이라': 158, '은행': 159, '해보다': 160, '모르다': 161, '임': 162, '그': 163, '때문': 164, '데': 165, '잔고': 166, '컴터': 167, '전화': 168, '휴': 169, '구글': 170, '이따': 171, '와': 172, '두다': 173, '인': 174, '내다': 175, '정도': 176, '구': 177, '새롭다': 178, '여유': 179, '갈다': 180, '이미': 181, '다르다': 182, '서다': 183, '문제': 184, '사용': 185, '랑': 186, '매장': 187, '구입': 188, '어떻다': 189, '되어다': 190, '어제': 191, '더': 192, '금액': 193, '자다': 194, '그리고': 195, '써다': 196, '걸리다': 197, '공인': 198, '에게': 199, '장모님': 200, '맡기다': 201, '머': 202, '온라인': 203, '꺼': 204, '걱정': 205, '시험': 206, '일단': 207, '그거': 208, 'ㅇㅋ': 209, '음': 210, '누나': 211, '연락': 212, '전': 213, '기프트카드': 214, '잘': 215, '아직': 216, '학교': 217, '센터': 218, '사다': 219, '가면': 220, '언제': 221, '빌리다': 222, '신청': 223, '감사하다': 224, '과': 225, '괜찮다': 226, '밖에': 227, '진짜': 228, '니': 229, '생각': 230, '몇': 231, '라고': 232, '시전': 233, '부터': 234, '빨리': 235, '앙': 236, '조사': 237, '많이': 238, '사람': 239, '만들다': 240, '기다리다': 241, '그래서': 242, '수빈': 243, '알': 244, '회원': 245, '들어가다': 246, '카카오': 247, '취소': 248, '상자': 249, '친하다': 250, '한번': 251, '도와주다': 252, '늦다': 253, '수업': 254, '공부': 255, 'ㅎㅎ': 256, '도착': 257, '전화하다': 258, '낼': 259, '많다': 260, '좋다': 261, 'ㄹㅇ': 262, '회사': 263, '부재': 264, '부탁드리다': 265, '적': 266, '얘기': 267, '숙모': 268, '달라': 269, '오빠': 270, '형수': 271, '떨어뜨리다': 272, '문상': 273, '놓다': 274, '쪽': 275, '점': 276, '미팅': 277, '신': 278, '해드리다': 279, '간': 280, '시도': 281, '계정': 282, '죄송하다': 283, '이름': 284, '신한': 285, '역': 286, '망가지다': 287, 'ㅇㅎ': 288, '차': 289, '오전': 290, '풀리다': 291, '비번': 292, '얼마': 293, '조금': 294, '마': 295, '장만': 296, '통화': 297, '크다': 298, '감': 299, '점심': 300, '기': 301, '번': 302, '피시': 303, '핀': 304, '버리다': 305, '줄': 306, '링크': 307, '함': 308, '말다': 309, '여': 310, '쓰다': 311, '소리': 312, '웅': 313, '너무': 314, '가요': 315, '건': 316, '미안하다': 317, '고모': 318, '로그인': 319, '위해': 320, '답장': 321, '수수료': 322, '아깝다': 323, '지다': 324, '늘다': 325, '저희': 326, '위메프': 327, '아이디': 328, '등록': 329, '갚다': 330, '상태': 331, '넹': 332, '그게': 333, '오': 334, '옴': 335, '시반': 336, '안대': 337, '메시지': 338, '바꾸다': 339, '앞': 340, '명': 341, 'ㅋㅋㅋ': 342, '엥': 343, '후': 344, '한국': 345, '민증': 346, '안녕하다': 347, '나라': 348, '누구': 349, '검사': 350, '씨': 351, '현재': 352, '검': 353, '검거': 354, '외교관': 355, '사주다': 356, '폰땜': 357, '보고': 358, '급': 359, '문의': 360, '뭐좀': 361, '우선': 362, '일이': 363, '새': 364, '비': 365, '미치다': 366, '같이': 367, '생기다': 368, '안나': 369, '헐다': 370, '조': 371, '컬쳐': 372, '상황': 373, '비밀번호': 374, '주민': 375, '등록증': 376, '월': 377, '다른': 378, '풀다': 379, '이랑': 380, '밥': 381, '분': 382, '끄다': 383, '답': 384, '야하다': 385, '티몬': 386, '처리': 387, '바라다': 388, '갑자기': 389, '사면': 390, '이따가': 391, '컴': 392, '화면': 393, '물어보다': 394, '남친': 395, '행': 396, '과정': 397, '보안': 398, '금융': 399, '기단': 400, '재난': 401, '옷': 402, '존나': 403, '현금': 404, '제한': 405, '대': 406, '보증금': 407, '이에요': 408, 'ㅇㅇㅇ': 409, 'ㅇㄷ': 410, '불다': 411, '래': 412, '바': 413, '다녀오다': 414, '추다': 415, '걸': 416, '인터넷': 417, '그렇게': 418, '그것': 419, '무슨': 420, '조앙': 421, '날': 422, '돌리다': 423, '잠': 424, '지키다': 425, '이라서': 426, '채널': 427, '유출': 428, '입력': 429, '랜드': 430, '사서': 431, '선물': 432, '에요': 433, '매형': 434, '반갑다': 435, '신용카드': 436, '사실': 437, '거래': 438, '부분': 439, '서울': 440, '다니다': 441, '개통': 442, '해주시': 443, '보험': 444, 'ㅇㅅㅇ': 445, '교수': 446, '감다': 447, '앗': 448, '이번': 449, '고객': 450, '범행': 451, '작성': 452, '지인': 453, '만나다': 454, '한도': 455, '삭제': 456, '씩': 457, '한일': 458, '자기': 459, '에는': 460, 'ㅌㅋㅋ': 461, '멀다': 462, '약속': 463, '년': 464, '꺼지다': 465, '타구': 466, '걍': 467, '가보다': 468, '뭔': 469, '대면': 470, '거기': 471, '이제': 472, '빠르다': 473, '원래': 474, '터치': 475, '힘드다': 476, '보이다': 477, '연결하다': 478, '니까': 479, '그건': 480, '아무': 481, '계속': 482, '코로나': 483, '거의': 484, '말고': 485, '이르다': 486, '넘다': 487, '공': 488, '주소': 489, '삼촌': 490, '쓸다': 491, '용이': 492, '고맙다': 493, '신한카드': 494, '아침': 495, '가족': 496, '상세': 497, '누르다': 498, '드릴': 499, '임시': 500, '앞뒤': 501, '자금': 502, '나중': 503, '시험지': 504, '텍스트': 505, '게임': 506, '어디서': 507, '어렵다': 508, '태릉': 509, '자꾸': 510, '번은': 511, '냐': 512, '난': 513, '말씀': 514, '연결': 515, '환불': 516, '햇': 517, '지불': 518, '이유': 519, '모두': 520, '원금': 521, '선생님': 522, '충전': 523, '아버님': 524, '가깝다': 525, '깨다': 526, '약': 527, '오르다': 528, '할인': 529, '로만': 530, '없이': 531, '짐': 532, '원룸': 533, '모': 534, '과제': 535, '배': 536, '엉': 537, '마이크': 538, '옮기다': 539, '오키': 540, 'ㅇㄴ': 541, '언': 542, '수가': 543, '경': 544, '그런데': 545, 'ㅇㅈ': 546, '움': 547, '뎅': 548, '뭘': 549, '거지': 550, '길다': 551, '사정': 552, '문': 553, '치다': 554, '인스타': 555, '투자': 556, '놀라다': 557, '마지막': 558, '헤에': 559, '자리': 560, '테스트': 561, '그대로': 562, '필요': 563, '뭐라다': 564, '완료': 565, '타다': 566, '홈': 567, '개인정보': 568, '비정상': 569, '보호': 570, '짜다': 571, '시키다': 572, '께': 573, '세': 574, '목요일': 575, '예전': 576, '예정': 577, '체크카드': 578, '매니저': 579, '나야': 580, '겁니다': 581, '이렇게': 582, '올': 583, '해결': 584, '국민': 585, '예': 586, '그러면': 587, '배고프다': 588, '회귀': 589, '파일': 590, 'ㅋㅋㅅㅂ': 591, '굳다': 592, '승환': 593, '갈수': 594, '어짜피': 595, '읽다': 596, '이렇다': 597, '입구': 598, '싶다': 599, '맥': 600, '채팅': 601, '용': 602, '답지': 603, '지급': 604, '이상하다': 605, '기기': 606, '왕': 607, '왱': 608, '남자': 609, '피씨': 610, '이상': 611, '절차': 612, '안전하다': 613, '사건': 614, '중요하다': 615, '대포통장': 616, '미국': 617, '별로': 618, '정리': 619, '해외': 620, '배송': 621, '미쳣': 622, '뭉치': 623, '미래': 624, '간섭': 625, '가야': 626, '챙기다': 627, '주문': 628, '당': 629, '롯데': 630, '해달라다': 631, '안해': 632, '화장실': 633, '매': 634, '차다': 635, '부': 636, '평균': 637, '고마': 638, '웡': 639, '티': 640, '카페': 641, '내려가다': 642, '싱': 643, '핳': 644, '이틀': 645, '하자': 646, '돈까스': 647, '자': 648, '빼다': 649, '기억': 650, '웃기다': 651, '떨다': 652, '운전': 653, '응응': 654, '창구': 655, '먹통': 656, '수신': 657, '비다': 658, '빛': 659, '반사': 660, '뱅킹': 661, '오래': 662, '신한은행': 663, '아하': 664, '이나': 665, '개다': 666, '성': 667, '따다': 668, '운동': 669, '가지': 670, '안전': 671, '내야': 672, '전체': 673, '계': 674, '자체': 675, '처음': 676, '네네': 677, '승민': 678, '품': 679, '프사': 680, '개웃': 681, '지갑': 682, '헤헤': 683, '미리': 684, '동': 685, '입': 686, '열리다': 687, '및': 688, '온': 689, '기프트': 690, '주시': 691, '정보': 692, '상담': 693, '일시': 694, '잠그다': 695, '티켓': 696, '일본': 697, '저기': 698, '김': 699, '화요일': 700, '전화번호': 701, '사주면': 702, '다른사람': 703, '정신': 704, '돌아가다': 705, '앱': 706, '숫자': 707, '프로': 708, '팔다': 709, '클릭': 710, '그걸': 711, '허용': 712, '은행가': 713, '줄다': 714, '거래처': 715, '든': 716, '여러': 717, '믿다': 718, '랏': 719, '인지': 720, '왓': 721, '에다': 722, '변경': 723, '반말': 724, '한적': 725, '당황': 726, '틈': 727, '겨': 728, '불편하다': 729, '가안': 730, '맡겻어': 731, '행사': 732, '이면': 733, '애': 734, '볼라': 735, '뭐함': 736, '방금': 737, '이네': 738, '따로': 739, '잡다': 740, '큰일': 741, '신혜': 742, '옛날': 743, '이래': 744, '다례': 745, '머리': 746, '맥주': 747, '씻다': 748, '헉': 749, '이신': 750, '창': 751, '비밀': 752, '기반': 753, '계시다': 754, '제발': 755, '내용': 756, '손실': 757, '넌': 758, '기차': 759, '체크': 760, '운듕': 761, '커피': 762, '닝': 763, '얼른': 764, '층': 765, '중국': 766, '중이': 767, '신다': 768, '실': 769, '진행': 770, '마무리': 771, '피해자': 772, '떨구다': 773, '지원': 774, '서류': 775, '이니': 776, '군인': 777, '신분증': 778, '살다': 779, '발견': 780, '대량': 781, '수사': 782, '가만히': 783, '끝': 784, '나대다': 785, '대해': 786, '여러분': 787, '이지': 788, '그만두다': 789, '도움': 790, '어느': 791, '들어주다': 792, '대로': 793, '핀번': 794, '애기': 795, '안녕하십니까': 796, '헤어지다': 797, '고민': 798, '흥': 799, '쟈기': 800, '어뜨케': 801, '누가': 802, '주짓수': 803, '복수동': 804, '케': 805, '좆': 806, '교회': 807, '하니': 808, '장바구니': 809, '담다': 810, '현': 811, '대금': 812, '라서': 813, '께서': 814, '차질': 815, '테로': 816, '학원': 817, '그랭': 818, '선생': 819, '공지': 820, '하라': 821, '치아': 822, '커지다': 823, '아씨': 824, '위치': 825, '만약': 826, '확실하다': 827, '딸': 828, '준비': 829, '정보처리기사': 830, '과도': 831, 'ㅂㄱㅍ': 832, '먹늠': 833, '간전': 834, '은화': 835, '양식': 836, '방기': 837, '이사': 838, '확정': 839, '계약': 840, 'ㅠㅠㅠ': 841, '능데': 842, '밑': 843, '허다': 844, '학기': 845, '규': 846, '한시': 847, '조아': 848, '군대': 849, '우리은행': 850, '트렸': 851, '어치': 852, '울다': 853, '영수증': 854, '직접': 855, '돌려주다': 856, '인근': 857, '발신': 858, '일전': 859, '금': 860, '톡좀': 861, '뒷': 862, '팀뷰어': 863, '대여': 864, '갈리다': 865, '모자라다': 866, '이기다': 867, '내놓다': 868, '박스': 869, '일부': 870, '오지': 871, '주변': 872, '의견': 873, '확진': 874, '파토': 875, '아이폰': 876, '마블': 877, '궁금하다': 878, '다음': 879, '설정': 880, '입금자': 881, '막': 882, '아쉽다': 883, '팀': 884, '의견서': 885, '뭐시기': 886, '무섭다': 887, '다행': 888, '위닝': 889, '얼굴': 890, '대체': 891, '심장': 892, '지각': 893, '몰다': 894, '나하': 895, '호': 896, 'ㅔㅔ': 897, '달다': 898, '학': 899, '춥다': 900, '과방': 901, '깔다': 902, '왜냐면': 903, '대통': 904, '헷': 905, '욤': 906, '기네': 907, '의도': 908, '치': 909, '웃기': 910, '마음': 911, '에도': 912, '다섯': 913, 'ㅅㅂㅋㅋ': 914, '학생': 915, '셋': 916, '나머진': 917, '똑같다': 918, '검증': 919, '임의': 920, '나누다': 921, '왤케': 922, '착하다': 923, '돈좀': 924, '바람': 925, '다양하다': 926, '소식': 927, '혜택': 928, '기준': 929, '거부': 930, '차단': 931, '안내': 932, '인하다': 933, '이메일': 934, '경우': 935, '메일': 936, '즉시': 937, '살리다': 938, '댕': 939, 'ㅠㅜ': 940, '그러니까': 941, '동일': 942, '화가': 943, '문화상': 944, '번거롭다': 945, '딱': 946, '계단': 947, '적다': 948, '각': 949, '혹은': 950, '연말': 951, '이하': 952, '농협': 953, '된거': 954, '복사': 955, '포함': 956, '마트': 957, '설치': 958, '힘들다': 959, '기다': 960, '지은이': 961, '새마을': 962, '증서': 963, '머좀': 964, '혼자': 965, '또': 966, '이건': 967, '지마켓': 968, '엇어': 969, '금방': 970, '지내다': 971, '회': 972, '낫': 973, '폰뱅': 974, '재발': 975, '와이프': 976, '몰래': 977, '대기': 978, '금주': 979, '만이': 980, '넘기다': 981, '사이트': 982, '마냥': 983, '남자친구': 984, '파이썬': 985, '먹음': 986, '애매하다': 987, '세시': 988, '저번': 989, '강하다': 990, '아직도': 991, '안함': 992, 'ㄱㅊ': 993, 'ㄴㄴ': 994, '이형': 995, '채점': 996, 'ㄱㄴ': 997, '몸': 998, '격리': 999, '책': 1000, '비슷하다': 1001, '중간': 1002, '콧물': 1003, '쉬다': 1004, '기억나다': 1005, 'ㄱㅅ': 1006, '시지': 1007, '보기': 1008, '정해': 1009, '어떡하다': 1010, '남다': 1011, '월요일': 1012, '벌써': 1013, '건희': 1014, '텍분': 1015, 'ㅇㅋㅇㅋ': 1016, '미안': 1017, '설마': 1018, '위': 1019, '옹': 1020, '싫다': 1021, '런가': 1022, '이고': 1023, '겠다': 1024, '가능': 1025, '반': 1026, '환': 1027, '차라리': 1028, '이론': 1029, '강아지': 1030, '천': 1031, 'ㅌㅌㅋㅋ': 1032, '역할': 1033, '산다': 1034, '시발': 1035, '담': 1036, '살짝': 1037, '알구': 1038, '만용': 1039, '유솔': 1040, '힣': 1041, '편하다': 1042, '대답': 1043, '듣다': 1044, '단': 1045, '귀': 1046, '자료': 1047, '여쭈다': 1048, '정말': 1049, '쵸': 1050, '유': 1051, '제로': 1052, '엔': 1053, '욥': 1054, '계산': 1055, '몇번': 1056, '조교': 1057, '과목': 1058, '케이스': 1059, '만큼': 1060, '검색': 1061, '액': 1062, '부담': 1063, '억': 1064, '냥': 1065, 'ㅜㅜㅜ': 1066, '서련': 1067, '어뗘': 1068, '영등포': 1069, 'ㅋㅋㅌㅋㅋ': 1070, '동생': 1071, '구래': 1072, '나이': 1073, '땅큥': 1074, '아닝': 1075, '복구': 1076, '타': 1077, '쏘다': 1078, '출근': 1079, '옮겨쥬': 1080, '살': 1081, '약과': 1082, '카운터': 1083, '켜다': 1084, '사건번호': 1085, '진행중': 1086, '사관': 1087, '길': 1088, '휴대폰': 1089, '주의': 1090, '위안화': 1091, '신경': 1092, '작은아버지': 1093, '큰어머니': 1094, '친척': 1095, '새다': 1096, '수표로': 1097, '직원': 1098, '언성': 1099, '높이다': 1100, '조회': 1101, '기업': 1102, '소요': 1103, '그동안': 1104, '이대로': 1105, '놔두다': 1106, '조치': 1107, '상담시': 1108, '감지': 1109, '기존': 1110, '전달': 1111, '대전': 1112, '관리': 1113, '꼭': 1114, '정부': 1115, '신속하다': 1116, '거들다': 1117, '긴급': 1118, '전자서명': 1119, '주민등록': 1120, '인천': 1121, '박병희': 1122, '측': 1123, '달래다': 1124, '대리점': 1125, '이라고': 1126, '박인수': 1127, '타인': 1128, '금전': 1129, '대가': 1130, '금융감독원': 1131, '협조': 1132, '무혐의': 1133, '선': 1134, '상의': 1135, '다운': 1136, '역도': 1137, '단자': 1138, '전원': 1139, '아랏어': 1140, '총': 1141, '달': 1142, '울': 1143, '소지품': 1144, '벌리다': 1145, '이벤트': 1146, '혜진': 1147, '출신': 1148, '승일': 1149, '테블릿': 1150, '민간인': 1151, '생활': 1152, '진심': 1153, '위탁': 1154, '외교': 1155, '하지만': 1156, '액수': 1157, '잖다': 1158, '어엄마': 1159, '출장': 1160, '그니까': 1161, '협력': 1162, '약간': 1163, '의향': 1164, '배달': 1165, '운송': 1166, '민아': 1167, '데이트': 1168, '칫': 1169, '토요일': 1170, '영화': 1171, '사랑': 1172, '밍앙': 1173, '이해': 1174, '구라': 1175, '원피스': 1176, '지랄': 1177, '뚜시': 1178, '우': 1179, '짜증나다': 1180, '없어지다': 1181, '가방': 1182, '보조': 1183, '대학교': 1184, '입다': 1185, '잘생기다': 1186, '사귀다': 1187, '꽃': 1188, '재미': 1189, '새끼': 1190, '닮다': 1191, '귀엽다': 1192, '월일': 1193, '페북': 1194, '와우': 1195, '손절': 1196, '은행동': 1197, '천원': 1198, '이득': 1199, '려고': 1200, '한장': 1201, '준': 1202, '나머지': 1203, '조심': 1204, '근처': 1205, '부도': 1206, '쌤': 1207, '야머': 1208, '빈': 1209, '절': 1210, '쉅때': 1211, '아악': 1212, '이식': 1213, '보충': 1214, '으악': 1215, '장소': 1216, '닐단': 1217, '길음': 1218, '자세하다': 1219, '시시': 1220, '일정': 1221, '셤': 1222, '자격': 1223, '졸업': 1224, '예정자': 1225, '무': 1226, '틀다': 1227, '열공': 1228, '잉': 1229, '웅웅': 1230, 'ㅏㅏㅏ': 1231, '용달': 1232, '견적': 1233, '깡': 1234, '심지어': 1235, '여서': 1236, '싸다': 1237, '지방': 1238, '어플': 1239, '마잪': 1240, '가가': 1241, '정보처리': 1242, '숩': 1243, '제왕': 1244, '오넹': 1245, '묵쟈': 1246, '쉅': 1247, '끝낭': 1248, '충치': 1249, '치료': 1250, '충무로': 1251, '구야': 1252, '부찌': 1253, '칮': 1254, '탕탕': 1255, '아싸': 1256, '웨이': 1257, '팅': 1258, '로드': 1259, '기대': 1260, '다리': 1261, '아프다': 1262, 'ㅋㅎ': 1263, '수술': 1264, '재활': 1265, '무릎': 1266, '인대': 1267, '파열': 1268, '건데': 1269, '정다혜': 1270, '바닥': 1271, '프티': 1272, '사오다': 1273, '해달': 1274, '결재': 1275, '휴식': 1276, '위험하다': 1277, '캐쉬': 1278, '발행': 1279, '상왕': 1280, '달래': 1281, '잋': 1282, '상사': 1283, '용하다': 1284, '로사': 1285, '유호': 1286, '델러': 1287, '되게': 1288, '한참': 1289, '현관': 1290, '뭌': 1291, '쿠팡': 1292, '인정': 1293, '명정': 1294, '우린': 1295, '언제나': 1296, '다수결': 1297, '이니까': 1298, '정점': 1299, '이라는': 1300, '자수': 1301, '늘': 1302, '맥북': 1303, '애플': 1304, '워치': 1305, '에어팟': 1306, '아이패드': 1307, '비츠': 1308, '헤드폰': 1309, '헌혈': 1310, '충': 1311, '마동석': 1312, '스토리': 1313, '터널': 1314, '스': 1315, '볼': 1316, '오케': 1317, '베놈': 1318, '떡밥': 1319, '캐릭터': 1320, '연': 1321, '인거': 1322, '때리다': 1323, '부동산': 1324, '피시방': 1325, '에이': 1326, '원정': 1327, '식': 1328, '마약': 1329, '핫도그': 1330, '맛있다': 1331, '기간': 1332, '개월': 1333, '따뜻하다': 1334, '기술': 1335, '베다': 1336, '처': 1337, '업무': 1338, '유치하다': 1339, '얼마나': 1340, '힘': 1341, '든지': 1342, '경험': 1343, '전무': 1344, '따리': 1345, '비적': 1346, '격': 1347, '어우': 1348, '웃다': 1349, '드랍시키': 1350, '니깐': 1351, '금융업': 1352, '우어': 1353, '조심하다': 1354, '종식': 1355, '팔리다': 1356, '예술': 1357, '프로필사진': 1358, '펀드': 1359, '코인': 1360, '아오': 1361, '인사': 1362, '과장': 1363, '천퍼': 1364, '깜짝': 1365, 'ㅋㅋㄱㅋ': 1366, '물리': 1367, '지옥': 1368, '야수': 1369, '도박': 1370, '멈추다': 1371, '밍밍': 1372, '동영상': 1373, '월곡역': 1374, '자명': 1375, '안녕': 1376, '찡': 1377, '종말': 1378, '동전': 1379, '선거': 1380, '머싯다': 1381, '팔자': 1382, '중고': 1383, '으어어': 1384, '학학': 1385, 'ㅊㅊ': 1386, '머거다': 1387, '서영이': 1388, '미적': 1389, '문성원': 1390, '듯': 1391, '구랭구': 1392, '슥': 1393, '넨': 1394, '헤헿': 1395, '열한': 1396, '십분': 1397, '화관': 1398, '노노': 1399, '분차': 1400, '날인': 1401, '헤엥': 1402, '안추웡': 1403, '앜': 1404, '네비게이션': 1405, '됐넹': 1406, '존내': 1407, '누': 1408, '에바': 1409, '나둨': 1410, 'ㅔㅋㅋ': 1411, '썩다': 1412, '겁나다': 1413, '선대': 1414, '정원': 1415, '꽉차다': 1416, '욜': 1417, 'ㅎㅇ': 1418, '실패하다': 1419, '교': 1420, '여분': 1421, '교양': 1422, '줍다': 1423, '다기': 1424, '보단': 1425, '데이터': 1426, '붙이': 1427, '가성': 1428, '능': 1429, '오차': 1430, '율': 1431, '성능': 1432, '젠': 1433, '말임': 1434, '분들': 1435, '모델': 1436, '통일': 1437, '변수': 1438, '다레': 1439, '면알': 1440, '그리드': 1441, '빼': 1442, '고해': 1443, '실제': 1444, '땐': 1445, '봉투': 1446, '오프라인': 1447, '왜끝': 1448, '끊다': 1449, '집도': 1450, '답좀': 1451, '가하다': 1452, '밀리다': 1453, '정상': 1454, '매진': 1455, '캡쳐': 1456, '됏어': 1457, '괜찬': 1458, '쉽다': 1459, '패키지': 1460, '상품': 1461, '만료': 1462, '민망하다': 1463, '타고': 1464, '열': 1465, '마치': 1466, 'ㅜㅡㅜ': 1467, '선예': 1468, '실례': 1469, '드럽다': 1470, '찢어지다': 1471, '응급실': 1472, '꼬': 1473, '매다': 1474, '이하나': 1475, '가르치다': 1476, '핸펀': 1477, '잃어버리다': 1478, '칠만원': 1479, '작작': 1480, '모자라': 1481, '떨궜넹': 1482, '됭': 1483, '싢': 1484, '인중': 1485, '생사': 1486, '한가하다': 1487, '채우다': 1488, '부친': 1489, '도중': 1490, '해피머니': 1491, '장먼': 1492, '꺠져': 1493, '준걸': 1494, '활성화': 1495, '귀하': 1496, '복잡하다': 1497, '별일': 1498, '드렷': 1499, '습니': 1500, '건땜': 1501, '이예은': 1502, '금고': 1503, '찻': 1504, '머쫌': 1505, '대싱': 1506, '이채': 1507, '좌': 1508, '떼다': 1509, '서비스': 1510, '버전': 1511, '나폰': 1512, '컴텨': 1513, '접다': 1514, '담좀': 1515, '인테넷': 1516, '올랏다': 1517, '난리': 1518, '세명': 1519, '환자': 1520, '마스크': 1521, '항상': 1522, '착용': 1523, '수록': 1524, '로는': 1525, '내리다': 1526, '꾹': 1527, '속상하다': 1528, '뒤': 1529, '현찰': 1530, '형부': 1531, '간나': 1532, '못썻': 1533, '이물': 1534, '잠기다': 1535, '만천': 1536, '임재욱': 1537, '모돈': 1538, '보냇어': 1539, '명세': 1540, '표': 1541, '일생': 1542, '개인': 1543, '배터리': 1544, '마넌': 1545, '비우다': 1546, '야야': 1547, '점심때': 1548, '역시': 1549, '핸드폰결제': 1550, '동창': 1551, '핑계': 1552, '이혼': 1553, '백만': 1554, '마쇼': 1555, '후말': 1556, '나부': 1557, '탁하다': 1558, '대야': 1559, '일보': 1560, '엄만뭐해': 1561, '갱신': 1562, '열기': 1563, 'ㅌㅌ': 1564, '요기': 1565, '에가': 1566, '살수': 1567, '다헤': 1568, '공장': 1569, '업체': 1570, '폰초': 1571, '기화': 1572, '원만': 1573, '답답하다': 1574, '죽다': 1575, '지하철': 1576, '물총새': 1577, '토': 1578, 'ㅁㅎ': 1579, '강전': 1580, '다혜누': 1581, '백신': 1582, '머슨': 1583, '몰루': 1584, '주영': 1585, '아이': 1586, '화': 1587, '수목': 1588, '인공': 1589, '지능': 1590, '입문': 1591, '다섯시': 1592, '빌다': 1593, '응애': 1594, '풀': 1595, '글른듯': 1596, '시작': 1597, '김지희': 1598, 'ㅁㄹ': 1599, 'ㄴㅋㅋㅅㅂ': 1600, '지는': 1601, '띄우다': 1602, '사이버': 1603, '캠퍼스': 1604, '재훈': 1605, '대충': 1606, '지만': 1607, '거가': 1608, '지고': 1609, '유추': 1610, '전설': 1611, '메로나': 1612, '삼일': 1613, '버티다': 1614, '박교': 1615, '엉엉': 1616, '병원': 1617, '항원': 1618, '음성': 1619, '슬슬': 1620, '푹': 1621, '프로그래밍': 1622, '데사': 1623, '공선택': 1624, '쨋': 1625, '장실': 1626, '코드': 1627, '안먀': 1628, '잠결': 1629, '연어초밥': 1630, 'ㅋㅋㅅㅂㅋㅋ': 1631, '어쩌': 1632, '밤새다': 1633, '천천히': 1634, '갠데': 1635, '만에': 1636, '덥다': 1637, '술': 1638, '안주': 1639, '야무지다': 1640, '달리다': 1641, '귀하다': 1642, 'ㅌㅌㅌㅋㅋ': 1643, '술램': 1644, '덩크': 1645, '그만하다': 1646, '훈': 1647, '아리': 1648, '스타': 1649, '왕따': 1650, '당하': 1651, '그래도': 1652, '왜안옴': 1653, '부럽다': 1654, '딱하다': 1655, '뭐없엇어': 1656, '표설': 1657, '빔': 1658, '둘임': 1659, '꼬셔': 1660, '둘': 1661, '맛': 1662, '머현': 1663, '스콘': 1664, '참다': 1665, '엽닭': 1666, '찜닭': 1667, 'ㅋㅋㅌㅋㅋㅌ': 1668, '명도': 1669, '쇼부': 1670, '혹쉬': 1671, '서운하다': 1672, '한마디': 1673, '도안': 1674, '빡치다': 1675, '올라오다': 1676, 'ㅓㅁ': 1677, '암': 1678, '법': 1679, '까먹다': 1680, '글': 1681, '마시다': 1682, '아샷추': 1683, 'ㅈㅅ': 1684, '습관성': 1685, '노예': 1686, '근성': 1687, '조조': 1688, '옹오': 1689, '오오오': 1690, '텟분': 1691, '은근': 1692, '외우다': 1693, '로지': 1694, '스틱': 1695, '안온': 1696, '기분': 1697, '망상': 1698, '발': 1699, '냄새': 1700, '재밌다': 1701, '밉다': 1702, '낫다': 1703, '주위': 1704, '표본': 1705, '설계': 1706, '솔직하다': 1707, '찢다': 1708, '합법': 1709, '애초': 1710, '코딩': 1711, '금메달': 1712, '고등학생': 1713, '던데': 1714, '상해': 1715, '너머': 1716, '장이': 1717, '연강': 1718, '비대': 1719, '팡': 1720, '개론': 1721, '증명': 1722, '계샄': 1723, '분류기': 1724, '오픈': 1725, '북도': 1726, '어케': 1727, '맞춤': 1728, '더보': 1729, '헿': 1730, '헤': 1731, '어케봄': 1732, 'ㅌㅌㅋㅋㅅㅂ': 1733, '위로': 1734, '백': 1735, '지르다': 1736, '소프트맥스': 1737, '집감': 1738, '물': 1739, '서현': 1740, 'ㄱㄷ': 1741, '물봄': 1742, '얘': 1743, '천하다': 1744, '고함': 1745, '정해지다': 1746, '걔': 1747, '어대거': 1748, '어쩌실': 1749, '어린이대공원역': 1750, '군자역': 1751, '건대': 1752, '구역': 1753, '정거장': 1754, '녹음': 1755, '노잼': 1756, '오랜': 1757, '집다': 1758, '봉구': 1759, '비어': 1760, '모름': 1761, '실패': 1762, 'ㄴㅋ': 1763, '슬리퍼': 1764, '신고': 1765, '졈': 1766, 'ㅍㅇ': 1767, 'ㄷㅋ': 1768, '함께': 1769, '편지': 1770, '쥬': 1771, '세용': 1772, '봬': 1773, '통계': 1774, '으루': 1775, '자버렷어욥': 1776, '넹넹': 1777, '해석': 1778, '중간고사': 1779, '순회': 1780, '모형': 1781, '진도': 1782, '실습': 1783, '박주현': 1784, 'ㅎㅋㅋㅋ': 1785, '위주': 1786, '분석': 1787, '족보': 1788, '파다': 1789, '드랍': 1790, 'ㅎㅋㅋ': 1791, '저만': 1792, '그런': 1793, 'ㅠㅜㅜ': 1794, '미우다': 1795, 'ㅜㅜㅠ': 1796, '젤': 1797, '끼다': 1798, '재수': 1799, '잌': 1800, 'ㅋㅌㅌㅋㅋㅋ': 1801, '해탈': 1802, '통계학': 1803, '료구': 1804, 'ㅃㅏ': 1805, '푼': 1806, '이리': 1807, '넵': 1808, '해봤다': 1809, '풀이': 1810, '똑같이': 1811, '식다': 1812, '그리다': 1813, '최': 1814, '다희': 1815, '겹': 1816, '로부터': 1817, '작': 1818, '헷갈리다': 1819, '뜻': 1820, '에서는': 1821, '어오': 1822, '넹마자': 1823, '아아': 1824, '노': 1825, '왓능': 1826, '여기다': 1827, '개맛': 1828, 'ㅇㄹㅇ': 1829, '제모': 1830, '옼다': 1831, '껭': 1832, '렼': 1833, '회식': 1834, '미루다': 1835, '스켈링': 1836, '튜켕': 1837, '유켕': 1838, '핰테': 1839, '좀망': 1840, '주차': 1841, '시갘': 1842, '무료': 1843, '월용': 1844, '한강': 1845, '무렁방': 1846, '시나': 1847, '괜챀': 1848, '코레일': 1849, '가재': 1850, '갘중': 1851, '배송지': 1852, '생일': 1853, '축하': 1854, 'ㅋㅋㅋㅌㅌ': 1855, '씐나': 1856, '파뤼파뤼': 1857, '예쁘다': 1858, '개기엽케': 1859, '진짴': 1860, '예쁘넹': 1861, '잘쓰다': 1862, '양': 1863, '네일': 1864, '쎄다': 1865, '뉘': 1866, '구컁': 1867, '이미지': 1868, '오우': 1869, '화려하다': 1870, '하루': 1871, '종일': 1872, '오야': 1873, '왜영': 1874, '물리다': 1875, '하하': 1876, '제안': 1877, '사오': 1878, 'ㅐㅇ': 1879, '햇눈데': 1880, 'ㅈㄴ': 1881, '개조': 1882, '잡': 1883, '스럽다': 1884, '비싸다': 1885, 'ㅋㅌㅋㅋ': 1886, '체고': 1887, '껀': 1888, '샐러드': 1889, '힝힝': 1890, '구갈': 1891, '껀데': 1892, '명학역': 1893, '막차': 1894, 'ㅁㅊ': 1895, '지하': 1896, '찰': 1897, '바류': 1898, '끝내다': 1899, '달이다': 1900, '하규': 1901, '대박': 1902, '구랭': 1903, '가몈': 1904, '상관': 1905, '없쓩': 1906, '금욜': 1907, '갼임': 1908, '시밬': 1909, '가게': 1910, '닭': 1911, '가슴': 1912, '점심시간': 1913, '부턴': 1914, '그럴껄': 1915, '고고': 1916, '어땨': 1917, '야구': 1918, '헤이헤': 1919, '치규': 1920, '에스컬레이터': 1921, '오닝': 1922, '킹': 1923, '출구': 1924, '볃': 1925, '돌아오다': 1926, '야행': 1927, 'ㅡㅜㅜ': 1928, '서렼': 1929, '유늘': 1930, '엌제유': 1931, '옿수': 1932, 'ㄷㅇ': 1933, '뫃': 1934, 'ㅇㅅㄱ': 1935, '알랴줭': 1936, '요깅': 1937, '땅콩': 1938, 'ㅎㅎㅅ': 1939, '마자': 1940, '미니': 1941, '왼쪽': 1942, '성반': 1943, '형제': 1944, '담당자': 1945, '이학': 1946, '이십': 1947, '성실하다': 1948, '참여': 1949, '찾아오다': 1950, '서울특별시': 1951, '송파구': 1952, '정의': 1953, '동부': 1954, '지방검찰청': 1955, '호실': 1956, '김승민': 1957, '사항': 1958, '모니터링': 1959, '체포영장': 1960, '원상': 1961, '부총': 1962, '석': 1963, '박사': 1964, '유학생': 1965, '휴일': 1966, '방해': 1967, '질의': 1968, '초안': 1969, '더하다': 1970, '환전': 1971, '지정': 1972, '곤란하다': 1973, '미애': 1974, '한가지': 1975, '황': 1976, '시내': 1977, '만해': 1978, '이어서': 1979, '내껄': 1980, '후시': 1981, '일만': 1982, '자구': 1983, '거야': 1984, '비용': 1985, '효도': 1986, '순': 1987, '이세': 1988, '마누': 1989, '잘못': 1990, '일일': 1991, '계세': 1992, '취업': 1993, '기념': 1994, '추석': 1995, '모바일': 1996, '금일': 1997, '이야기': 1998, '물론': 1999, '필요없다': 2000, '보험금': 2001, '백프로': 2002, '안되넹': 2003, '대화': 2004, '목록': 2005, '방': 2006, '피해': 2007, '피싱': 2008, '등등': 2009, '발생': 2010, '신건': 2011, '여러가지': 2012, '셔': 2013, '휴대': 2014, '비정': 2015, '상적': 2016, '보아': 2017, '셨던': 2018, '가능성': 2019, '높다': 2020, '이던': 2021, '휴대폰번호': 2022, '메세지': 2023, '이후': 2024, '이용자': 2025, '재': 2026, '이용': 2027, '부탁드': 2028, '리': 2029, '말씀드리다': 2030, '박다레': 2031, '고소하다': 2032, '공범': 2033, '자연': 2034, '스럽게': 2035, '얼': 2036, '마안': 2037, '아저씨': 2038, '스피커': 2039, '호로': 2040, '금지': 2041, '엄지훈': 2042, '이구': 2043, '목적': 2044, '접수': 2045, '성명': 2046, '발급': 2047, '표시': 2048, '김병기': 2049, '제출': 2050, '대상자': 2051, '드러나다': 2052, '홍길동': 2053, '사기죄': 2054, '혐의': 2055, '중구': 2056, '인수': 2057, '사이': 2058, '인가요': 2059, '치면': 2060, '사가다': 2061, '부족하다': 2062, '급전': 2063, '알아보다': 2064, '말년': 2065, '돌다': 2066, '밀': 2067, '어마': 2068, '이마트': 2069, '홈플러스': 2070, '김민기': 2071, '고소': 2072, '남양주': 2073, '김민지': 2074, '무과': 2075, '사무': 2076, '이현지': 2077, '성함': 2078, '대하': 2079, '발설': 2080, '불리하다': 2081, '수원': 2082, '대다': 2083, '남성': 2084, '김민우': 2085, '검찰청': 2086, '이지은': 2087, '범': 2088, '범죄': 2089, '박다': 2090, '건지다': 2091, '최현수': 2092, '검찰': 2093, '합동': 2094, '입증': 2095, '범인': 2096, '상': 2097, '유지': 2098, '생': 2099, '취약': 2100, '안심': 2101, '낭': 2102, '이안': 2103, '달전': 2104, '대출받다': 2105, '대출': 2106, '만기': 2107, '부터는': 2108, '아마': 2109, '뜰걸': 2110, '당연하다': 2111, '화로': 2112, '카트': 2113, '일로': 2114, '증도': 2115, '심하다': 2116, '안보': 2117, '친': 2118, '한형': 2119, '대기업': 2120, '홍보': 2121, '로앤비': 2122, '강인': 2123, '결론': 2124, '중앙': 2125, '이민수': 2126, '관련': 2127, '파': 2128, '이민기': 2129, '당시': 2130, '용의자': 2131, '압수': 2132, '하나은행': 2133, '두부': 2134, '개설': 2135, '연루': 2136, '느끼다': 2137, '뜨렷어': 2138, '들리다': 2139, '화사': 2140, '매달': 2141, '특별하다': 2142, '노스': 2143, '캐롤라이나': 2144, '뭐해': 2145, '실하다': 2146, '줫': 2147, '금금': 2148, '불가능하다': 2149, '부가세': 2150, '전시': 2151, '금박': 2152, '가집': 2153, '틀렷': 2154, '일다': 2155, '겻': 2156, '접': 2157, '안돠': 2158, '퇴근': 2159, '동안': 2160, '기르다': 2161, '정착': 2162, '시민': 2163, '사촌': 2164, '조부모': 2165, '꿈': 2166, '이루다': 2167, '희망': 2168, '수혜자': 2169, '서서': 2170, '만날': 2171, '보관': 2172, '왜냐하면': 2173, '아프가니스탄': 2174, '철수': 2175, '계획': 2176, '이기': 2177, '외': 2178, '선택': 2179, '여지': 2180, '기회': 2181, '빨갛다': 2182, '크로스': 2183, '에이전트': 2184, '통해': 2185, '보물': 2186, '면책특권': 2187, '배송비': 2188, '보안회': 2189, '나르다': 2190, '소개': 2191, '시리아': 2192, '확신': 2193, '거치다': 2194, '친애하다': 2195, '환영': 2196, '기쁘다': 2197, '날씨': 2198, '도시': 2199, '펠릭스': 2200, '국적': 2201, '태어나다': 2202, '자르다': 2203, '아버지': 2204, '어머니': 2205, '소중하다': 2206, '아프리카': 2207, '떨궛엉': 2208, '괜잖': 2209, '시가': 2210, '이동': 2211, '사줫으': 2212, '휴먼': 2213, '부보': 2214, '보내오다': 2215, '계약보증금': 2216, '윤재희': 2217, '그때': 2218, '껄': 2219, '쇼핑': 2220, '윤진이': 2221, '금시': 2222, '벌다': 2223, '분만': 2224, '이서현': 2225, '면대': 2226, '다해': 2227, '놧느': 2228, '먹엇어': 2229, '맏': 2230, '기고': 2231, '판매': 2232, '삼': 2233, '그니': 2234, '밖': 2235, '미란': 2236, '보이스피싱': 2237, '겟': 2238, '버': 2239, '체면': 2240, '세우다': 2241, '결혼': 2242, '이래도': 2243, '맡겻는데': 2244, '비만': 2245, '평소': 2246, '거절': 2247, '바바': 2248, '나뭐좀': 2249, '가바': 2250, '내달': 2251, '사업': 2252, '당하다': 2253, '곳도': 2254, '근': 2255, '망': 2256, '졋': 2257, '안다': 2258, '찿는': 2259, '업다': 2260, '접햇': 2261, '아이고': 2262, '할겡': 2263, '실수': 2264, '대한': 2265, '제공': 2266, '에게도': 2267, '알리': 2268, '요청': 2269, '단지': 2270, '또한': 2271, '보증': 2272, '공정하다': 2273, '모든': 2274, '스트레스': 2275, '달러': 2276, '송료': 2277, '관세': 2278, '첨부파일': 2279, '항공': 2280, '관새': 2281, '방문': 2282, '머무르다': 2283, '박승우': 2284, '논': 2285, '수비': 2286, '뿡': 2287, '도어': 2288, '락': 2289, '간자': 2290, '설레다': 2291, '아보카도': 2292, '바고': 2293, '씹다': 2294, '대학': 2295, '붙다': 2296, '동국': 2297, '이대': 2298, '불지': 2299, '듬': 2300, '팔로우': 2301, '란놈': 2302, '연락처': 2303, '연동': 2304, '궁': 2305, '뭐정': 2306, '꾸랭': 2307, '가조': 2308, '나둥': 2309, '타락하다': 2310, '이해도': 2311, '낮다': 2312, '년월': 2313, '왜케': 2314, '구체': 2315, '라면': 2316, '평가': 2317, '지켜보다': 2318, '폭력': 2319, '쓰레기': 2320, '정': 2321, '한다는': 2322, '바롬': 2323, '라니': 2324, '시무': 2325, '안껴쥬': 2326, '시르다': 2327, '뭉치다': 2328, '스웨이드': 2329, '셔링': 2330, '셔츠': 2331, '리뷰': 2332, '없뗘': 2333, '붙임머리': 2334, '건들': 2335, '염색': 2336, '흑발': 2337, '생머리': 2338, '어쩌라구': 2339, '간다': 2340, '싳': 2341, '우웅': 2342, '매점': 2343, '새꺄': 2344, '미쳣다': 2345, '번쨋날입을꺼': 2346, '똑바로': 2347, '캐리': 2348, '눈눙': 2349, '뜬금': 2350, '개념': 2351, '나돜': 2352, '방콕': 2353, '이처': 2354, '보냇떠': 2355, '감동': 2356, '발라': 2357, 'ㅇㄹ': 2358, '전자티켓': 2359, '당일': 2360, '베터리': 2361, '어머': 2362, '샸': 2363, 'ㅎㅎㅎ': 2364, '아구': 2365, '통학': 2366, '오래에뇨': 2367, '오래전': 2368, '욧': 2369, '떼': 2370, '톳데': 2371, '올리다': 2372, '너무하다': 2373, '가짜': 2374, '힝거려': 2375, '토나오다': 2376, '거중': 2377, '나아': 2378, '앜키': 2379, '고르다': 2380, '사지': 2381, '어뜨케사': 2382, 'ㅜㅜㅡㅜㅡ': 2383, '죽이다': 2384, '우리엄마': 2385, '우리엄': 2386, '심': 2387, '보정': 2388, '미스코리아': 2389, '써브웨이': 2390, '바르다': 2391, '여운': 2392, '짱': 2393, '뚜': 2394, '롱': 2395, '치마': 2396, '눋': 2397, 'ㅐㄷ': 2398, '바밥': 2399, '인어공주': 2400, '얌': 2401, '빨빨': 2402, '우아닝': 2403, '하고도': 2404, '목': 2405, '잇힝': 2406, '세이': 2407, '백화점': 2408, '고치다': 2409, '생갇중': 2410, '샵': 2411, '전수영': 2412, '어뜨카': 2413, '단말': 2414, '론': 2415, '안감': 2416, '메인보드': 2417, '노랑': 2418, '색': 2419, '윗': 2420, '부품': 2421, 'ㅛㅓ': 2422, '인생': 2423, '얼음': 2424, '자취': 2425, '미치닌': 2426, '으': 2427, '에여': 2428, '누군지': 2429, '아닠': 2430, '조차': 2431, '아련하다': 2432, '알바': 2433, '공연장': 2434, '주인공': 2435, '뻔하다': 2436, '길가': 2437, '다가': 2438, '엏': 2439, '어쩌구저쩌구': 2440, '소름끼치다': 2441, '잡고': 2442, '중얼중얼': 2443, '거리': 2444, '해바라기': 2445, '한성': 2446, '송이': 2447, '봄': 2448, '경찰서': 2449, '수도': 2450, '초등학교': 2451, '다나': 2452, '들어오다': 2453, '후후루': 2454, '왜저랰': 2455, '떵': 2456, '렌': 2457, '선친': 2458, '구니': 2459, '흐븧': 2460, '밤': 2461, '도깨비': 2462, '야시장': 2463, '월안': 2464, '찌': 2465, '안남': 2466, '원하다': 2467, '강의': 2468, '불쌍하다': 2469, '어쩜': 2470, '괜창': 2471, '개웃곀': 2472, '싳오': 2473, '웅안댕': 2474, '에어': 2475, 'ㅏㅅ': 2476, '오른쪽': 2477, '칮음': 2478, '감기': 2479, '심해지다': 2480, '나쁘다': 2481, '놈': 2482, '강': 2483, '이냐': 2484, '불가능': 2485, '출첵': 2486, '찍히다': 2487, '그치다': 2488, '닮음': 2489, '주인': 2490, '모르닝': 2491, '귀요미': 2492, '밍앙눙': 2493, '기여': 2494, '웅뎅': 2495, '순위': 2496, 'ㅔㅁ': 2497, '정문': 2498, '초록': 2499, '마을': 2500, '째다': 2501, '후문': 2502, '갈건': 2503, '갓': 2504, '도해': 2505, '엉뚱하다': 2506, '걷다': 2507, '싫어하다': 2508, '웨이터': 2509, '죠': 2510, '어쩌라고': 2511, '참나': 2512, '용서': 2513, '방향': 2514, '낮잠': 2515, '못자다': 2516, '피곤하다': 2517, '방가': 2518, '징': 2519, '배그': 2520, '옵': 2521, '치가': 2522, '하얗다': 2523, '그딴': 2524, '뿅뿅': 2525, '떠나다': 2526, '동아리': 2527}\n"
          ]
        }
      ]
    },
    {
      "cell_type": "code",
      "source": [
        "# 등장빈도수가 2개 미만인 경우\n",
        "threshold = 2\n",
        "total_cnt = len(tokenizer.word_index) # 단어의 수\n",
        "rare_cnt = 0 # 등장 빈도수가 threshold보다 작은 단어의 개수를 카운트\n",
        "total_freq = 0 # 훈련 데이터의 전체 단어 빈도수 총 합\n",
        "rare_freq = 0 # 등장 빈도수가 threshold보다 작은 단어의 등장 빈도수의 총 합\n",
        "\n",
        "# 단어와 빈도수의 쌍(pair)을 key와 value로 받는다.\n",
        "for key, value in tokenizer.word_counts.items():\n",
        "    total_freq = total_freq + value\n",
        "\n",
        "    # 단어의 등장 빈도수가 threshold보다 작으면\n",
        "    if(value < threshold):\n",
        "        rare_cnt = rare_cnt + 1\n",
        "        rare_freq = rare_freq + value\n",
        "\n",
        "print('단어 집합(vocabulary)의 크기 :',total_cnt)\n",
        "print('등장 빈도가 %s번 이하인 희귀 단어의 수: %s'%(threshold - 1, rare_cnt))\n",
        "print(\"단어 집합에서 희귀 단어의 비율:\", (rare_cnt / total_cnt)*100)\n",
        "print(\"전체 등장 빈도에서 희귀 단어 등장 빈도 비율:\", (rare_freq / total_freq)*100)"
      ],
      "metadata": {
        "colab": {
          "base_uri": "https://localhost:8080/"
        },
        "id": "W3HGIfVya7Wc",
        "outputId": "f47b14b1-360d-45f5-e06f-904eba8f0364"
      },
      "execution_count": null,
      "outputs": [
        {
          "output_type": "stream",
          "name": "stdout",
          "text": [
            "단어 집합(vocabulary)의 크기 : 2527\n",
            "등장 빈도가 1번 이하인 희귀 단어의 수: 1330\n",
            "단어 집합에서 희귀 단어의 비율: 52.63157894736842\n",
            "전체 등장 빈도에서 희귀 단어 등장 빈도 비율: 8.215454938538514\n"
          ]
        }
      ]
    },
    {
      "cell_type": "code",
      "source": [
        "# vocab_size = total_cnt - rare_cnt + 1\n",
        "vocab_size = total_cnt\n",
        "print('단어 집합의 크기 :',vocab_size)"
      ],
      "metadata": {
        "colab": {
          "base_uri": "https://localhost:8080/"
        },
        "id": "bhqWGGLleazN",
        "outputId": "0164c15d-b6f4-4628-9a1b-9b45323e5f7c"
      },
      "execution_count": null,
      "outputs": [
        {
          "output_type": "stream",
          "name": "stdout",
          "text": [
            "단어 집합의 크기 : 2527\n"
          ]
        }
      ]
    },
    {
      "cell_type": "code",
      "source": [
        "print('txt의 최대 길이 :',max(len(txt) for txt in clean_text))\n",
        "print('txt의 평균 길이 :',sum(map(len, clean_text))/len(clean_text))\n",
        "plt.hist([len(txt) for txt in clean_text], bins=50)\n",
        "plt.xlabel('length of samples')\n",
        "plt.ylabel('number of samples')\n",
        "plt.show()"
      ],
      "metadata": {
        "colab": {
          "base_uri": "https://localhost:8080/",
          "height": 315
        },
        "id": "D1xDxuj-a7TP",
        "outputId": "d8dd0458-efb4-4ef0-ca13-69a5ea92a25f"
      },
      "execution_count": null,
      "outputs": [
        {
          "output_type": "stream",
          "name": "stdout",
          "text": [
            "txt의 최대 길이 : 304\n",
            "txt의 평균 길이 : 44.35342465753425\n"
          ]
        },
        {
          "output_type": "display_data",
          "data": {
            "text/plain": [
              "<Figure size 432x288 with 1 Axes>"
            ],
            "image/png": "[encoded data removed]"
          },
          "metadata": {
            "needs_background": "light"
          }
        }
      ]
    },
    {
      "cell_type": "code",
      "source": [
        "def below_threshold_len(max_len, nested_list):\n",
        "  count = 0\n",
        "  for sentence in nested_list:\n",
        "    if(len(sentence) <= max_len):\n",
        "        count = count + 1\n",
        "  print('전체 샘플 중 길이가 %s 이하인 샘플의 비율: %s'%(max_len, (count / len(nested_list))*100))"
      ],
      "metadata": {
        "id": "u-qxaPWTbd2s"
      },
      "execution_count": null,
      "outputs": []
    },
    {
      "cell_type": "code",
      "source": [
        "max_len = 100\n",
        "below_threshold_len(max_len, clean_text)"
      ],
      "metadata": {
        "colab": {
          "base_uri": "https://localhost:8080/"
        },
        "id": "Fs3kiECxbdzo",
        "outputId": "a1d0ef3e-bcd5-4dc3-9d32-b6a413839bf9"
      },
      "execution_count": null,
      "outputs": [
        {
          "output_type": "stream",
          "name": "stdout",
          "text": [
            "전체 샘플 중 길이가 100 이하인 샘플의 비율: 92.6027397260274\n"
          ]
        }
      ]
    },
    {
      "cell_type": "markdown",
      "source": [
        "# 모델 생성"
      ],
      "metadata": {
        "id": "OLq2NAmD2M--"
      }
    },
    {
      "cell_type": "code",
      "source": [
        "train_inputs"
      ],
      "metadata": {
        "colab": {
          "base_uri": "https://localhost:8080/"
        },
        "id": "lwms8D1s4Hc_",
        "outputId": "9d007b22-9d68-41c4-d25f-c358960e1c52"
      },
      "execution_count": null,
      "outputs": [
        {
          "output_type": "execute_result",
          "data": {
            "text/plain": [
              "array([[   2,   18,    5, ...,    0,    0,    0],\n",
              "       [  79,   18,   13, ...,    0,    0,    0],\n",
              "       [  18,  109,   13, ...,    0,    0,    0],\n",
              "       ...,\n",
              "       [ 804,   67, 1197, ...,    0,    0,    0],\n",
              "       [ 755,   12,  100, ...,    0,    0,    0],\n",
              "       [ 145,  736, 2525, ...,    0,    0,    0]], dtype=int32)"
            ]
          },
          "metadata": {},
          "execution_count": 33
        }
      ]
    },
    {
      "cell_type": "code",
      "source": [
        "train_labels = df.label\n",
        "train_labels"
      ],
      "metadata": {
        "colab": {
          "base_uri": "https://localhost:8080/"
        },
        "id": "9xl5Cp9qxxuO",
        "outputId": "606527e8-47a8-4a54-918e-7589f78c8989"
      },
      "execution_count": null,
      "outputs": [
        {
          "output_type": "execute_result",
          "data": {
            "text/plain": [
              "0      1\n",
              "1      1\n",
              "2      1\n",
              "3      1\n",
              "4      1\n",
              "      ..\n",
              "360    0\n",
              "361    0\n",
              "362    0\n",
              "363    0\n",
              "364    0\n",
              "Name: label, Length: 365, dtype: object"
            ]
          },
          "metadata": {},
          "execution_count": 34
        }
      ]
    },
    {
      "cell_type": "code",
      "source": [
        "from tensorflow.keras.layers import Embedding, Dense, LSTM, Dropout\n",
        "from tensorflow.keras.models import Sequential\n",
        "from tensorflow.keras.models import load_model\n",
        "from tensorflow.keras.callbacks import EarlyStopping, ModelCheckpoint\n",
        "from keras.preprocessing import sequence\n",
        "from keras.utils import np_utils\n",
        "from sklearn.model_selection import train_test_split"
      ],
      "metadata": {
        "id": "QnebGKx8ZHzc"
      },
      "execution_count": null,
      "outputs": []
    },
    {
      "cell_type": "code",
      "source": [
        "X_train, X_test, y_train, y_test = train_test_split(train_inputs, train_labels, test_size=0.2, random_state=123)\n",
        "\n",
        "# LSTM의 목표변수는 one-hot encoding\n",
        "y_train = np_utils.to_categorical(y_train) # one_hot으로 변형\n",
        "y_test = np_utils.to_categorical(y_test) # 3 -> [0,0,0,1,0, ..]"
      ],
      "metadata": {
        "id": "ITc8fqYB5XqO"
      },
      "execution_count": null,
      "outputs": []
    },
    {
      "cell_type": "code",
      "source": [
        "a = [1 for i in y_test if i[0]==1]\n",
        "b = [1 for i in y_test if i[0]==0]\n",
        "\n",
        "print(len(a))\n",
        "print(len(b))"
      ],
      "metadata": {
        "colab": {
          "base_uri": "https://localhost:8080/"
        },
        "id": "4vssnnpP_yaJ",
        "outputId": "aa4cf6f9-7dda-4207-8e6c-a9b03cea406d"
      },
      "execution_count": null,
      "outputs": [
        {
          "output_type": "stream",
          "name": "stdout",
          "text": [
            "37\n",
            "36\n"
          ]
        }
      ]
    },
    {
      "cell_type": "code",
      "source": [
        "# 모델 구축 함수\n",
        "def create_model():\n",
        "  model = Sequential()\n",
        "  model.add(Embedding(vocab_size + 1, len(X_train[0])))\n",
        "  model.add(LSTM(len(X_train[0])))\n",
        "  model.add(Dropout(0.3))\n",
        "  model.add(Dense(32, activation=\"relu\"))\n",
        "  model.add(Dense(2, activation='softmax'))\n",
        "  return model"
      ],
      "metadata": {
        "id": "gz9du2U_vN8H"
      },
      "execution_count": null,
      "outputs": []
    },
    {
      "cell_type": "code",
      "source": [
        "print(create_model().summary())"
      ],
      "metadata": {
        "colab": {
          "base_uri": "https://localhost:8080/"
        },
        "id": "t5-D0QfOILWX",
        "outputId": "a63ad62b-13d4-4892-f730-30054b0f66f4"
      },
      "execution_count": null,
      "outputs": [
        {
          "output_type": "stream",
          "name": "stdout",
          "text": [
            "Model: \"sequential\"\n",
            "_________________________________________________________________\n",
            " Layer (type)                Output Shape              Param #   \n",
            "=================================================================\n",
            " embedding (Embedding)       (None, None, 100)         252800    \n",
            "                                                                 \n",
            " lstm (LSTM)                 (None, 100)               80400     \n",
            "                                                                 \n",
            " dropout (Dropout)           (None, 100)               0         \n",
            "                                                                 \n",
            " dense (Dense)               (None, 32)                3232      \n",
            "                                                                 \n",
            " dense_1 (Dense)             (None, 2)                 66        \n",
            "                                                                 \n",
            "=================================================================\n",
            "Total params: 336,498\n",
            "Trainable params: 336,498\n",
            "Non-trainable params: 0\n",
            "_________________________________________________________________\n",
            "None\n"
          ]
        }
      ]
    },
    {
      "cell_type": "markdown",
      "source": [
        "## LSTM"
      ],
      "metadata": {
        "id": "G2Ke1ABC3LvP"
      }
    },
    {
      "cell_type": "code",
      "source": [
        "model = create_model()\n",
        "model.compile(loss='categorical_crossentropy', optimizer='adam', metrics=['accuracy'])\n",
        "early_stopping = EarlyStopping(monitor='val_loss', patience=3) #patience=3은 3번 참는다는 느낌\n",
        "history = model.fit(X_train, y_train, batch_size=100, epochs=20, validation_data=(X_test,y_test), callbacks=[early_stopping])"
      ],
      "metadata": {
        "colab": {
          "base_uri": "https://localhost:8080/"
        },
        "id": "6rjw-JV_3K8y",
        "outputId": "f6c70121-90fe-4110-c2eb-f9c8b1eea038"
      },
      "execution_count": null,
      "outputs": [
        {
          "output_type": "stream",
          "name": "stdout",
          "text": [
            "Epoch 1/20\n",
            "3/3 [==============================] - 5s 1s/step - loss: 0.6938 - accuracy: 0.4932 - val_loss: 0.6917 - val_accuracy: 0.5753\n",
            "Epoch 2/20\n",
            "3/3 [==============================] - 1s 283ms/step - loss: 0.6919 - accuracy: 0.5068 - val_loss: 0.6882 - val_accuracy: 0.5890\n",
            "Epoch 3/20\n",
            "3/3 [==============================] - 1s 280ms/step - loss: 0.6915 - accuracy: 0.5377 - val_loss: 0.6875 - val_accuracy: 0.5890\n",
            "Epoch 4/20\n",
            "3/3 [==============================] - 1s 294ms/step - loss: 0.6896 - accuracy: 0.5616 - val_loss: 0.6874 - val_accuracy: 0.6301\n",
            "Epoch 5/20\n",
            "3/3 [==============================] - 1s 280ms/step - loss: 0.6880 - accuracy: 0.5685 - val_loss: 0.6840 - val_accuracy: 0.6301\n",
            "Epoch 6/20\n",
            "3/3 [==============================] - 1s 287ms/step - loss: 0.6837 - accuracy: 0.5719 - val_loss: 0.6775 - val_accuracy: 0.6301\n",
            "Epoch 7/20\n",
            "3/3 [==============================] - 1s 291ms/step - loss: 0.6810 - accuracy: 0.5514 - val_loss: 0.6632 - val_accuracy: 0.6301\n",
            "Epoch 8/20\n",
            "3/3 [==============================] - 1s 284ms/step - loss: 0.6580 - accuracy: 0.6199 - val_loss: 0.6102 - val_accuracy: 0.7534\n",
            "Epoch 9/20\n",
            "3/3 [==============================] - 1s 283ms/step - loss: 0.5064 - accuracy: 0.8288 - val_loss: 0.5150 - val_accuracy: 0.7945\n",
            "Epoch 10/20\n",
            "3/3 [==============================] - 1s 284ms/step - loss: 0.3536 - accuracy: 0.8733 - val_loss: 0.6328 - val_accuracy: 0.8082\n",
            "Epoch 11/20\n",
            "3/3 [==============================] - 1s 269ms/step - loss: 0.1745 - accuracy: 0.9589 - val_loss: 0.1174 - val_accuracy: 0.9726\n",
            "Epoch 12/20\n",
            "3/3 [==============================] - 1s 284ms/step - loss: 0.0852 - accuracy: 0.9829 - val_loss: 0.1229 - val_accuracy: 0.9726\n",
            "Epoch 13/20\n",
            "3/3 [==============================] - 1s 287ms/step - loss: 0.1086 - accuracy: 0.9795 - val_loss: 0.2506 - val_accuracy: 0.9452\n",
            "Epoch 14/20\n",
            "3/3 [==============================] - 1s 275ms/step - loss: 0.1262 - accuracy: 0.9726 - val_loss: 0.2964 - val_accuracy: 0.9315\n"
          ]
        }
      ]
    },
    {
      "cell_type": "code",
      "source": [
        "#모델 저장\n",
        "#model.save('/content/drive/MyDrive/Colab Notebooks/캡스톤 디자인/kfold_model.h5')"
      ],
      "metadata": {
        "id": "6xBdPdu-70sE"
      },
      "execution_count": null,
      "outputs": []
    },
    {
      "cell_type": "code",
      "source": [
        "ran_num = 14\n",
        "#plot x축 range() Epoch만큼 수정하기\n",
        "plt.figure(figsize=(15, 7))\n",
        "plt.plot(range(ran_num), history.history['accuracy'])\n",
        "plt.plot(range(ran_num), history.history['val_accuracy'])\n",
        "plt.plot(range(ran_num), history.history['val_loss'])\n",
        "\n",
        "plt.legend(['training_acc', 'validation_acc', 'validation_loss'])\n",
        "plt.title('Accuracy & loss')"
      ],
      "metadata": {
        "colab": {
          "base_uri": "https://localhost:8080/",
          "height": 359
        },
        "id": "OkePovm23LJJ",
        "outputId": "7cf50478-67be-4a6a-8449-8d62fd7b8b5f"
      },
      "execution_count": null,
      "outputs": [
        {
          "output_type": "execute_result",
          "data": {
            "text/plain": [
              "Text(0.5, 1.0, 'Accuracy & loss')"
            ]
          },
          "metadata": {},
          "execution_count": 47
        },
        {
          "output_type": "display_data",
          "data": {
            "text/plain": [
              "<Figure size 1080x504 with 1 Axes>"
            ],
            "image/png": "[encoded data removed]"
          },
          "metadata": {
            "needs_background": "light"
          }
        }
      ]
    },
    {
      "cell_type": "markdown",
      "source": [
        "## k-fold validation 적용 LSTM"
      ],
      "metadata": {
        "id": "BisU0gvmmvpm"
      }
    },
    {
      "cell_type": "code",
      "source": [
        "from sklearn.model_selection import KFold\n",
        "import numpy as np\n",
        "from keras.models import load_model\n",
        "\n",
        "def kfold_LSTM(k, X_train, X_test, y_train, y_test):\n",
        "  X_train, X_valid, y_train, y_valid = train_test_split(X_train, y_train, test_size=0.2, random_state=123) # valid set 나누기\n",
        "\n",
        "  inputs = np.concatenate((X_train, X_valid), axis=0)\n",
        "  targets = np.concatenate((y_train, y_valid), axis=0)\n",
        "\n",
        "  scores = [0] # 각 회차에서의 테스트 셋 정확도\n",
        "\n",
        "  kfold = KFold(n_splits=k, shuffle=True, random_state=123)\n",
        "  fold_no = 1\n",
        "  best_num = 0\n",
        "  for train, test in kfold.split(inputs, targets):\n",
        "\n",
        "    model = create_model()\n",
        "    model.compile(loss='categorical_crossentropy', optimizer='adam', metrics=['accuracy'])\n",
        "    early_stopping = EarlyStopping(monitor='loss', patience=3) #patience=3은 3번 참는다는 느낌\n",
        "\n",
        "    print('------------------------------------------------------------------------')\n",
        "    print(f'Training for fold {fold_no} ...')\n",
        "\n",
        "    history = model.fit(inputs[train], targets[train], batch_size=100, epochs=20, callbacks=[early_stopping]) # 모델 피팅\n",
        "    score = model.evaluate(X_test, y_test, batch_size=100)[1] # 모델 정확도\n",
        "    if score >= max(scores):\n",
        "      best_num = fold_no # 가장 정확도가 높은 모델의 번호를 저장\n",
        "\n",
        "    scores.append(score)\n",
        "    model.save('kfold_'+str(fold_no)+'_model.h5') # 모델 저장\n",
        "\n",
        "    fold_no = fold_no + 1\n",
        "\n",
        "  return scores, best_num"
      ],
      "metadata": {
        "id": "uSZWmw8HZesi"
      },
      "execution_count": null,
      "outputs": []
    },
    {
      "cell_type": "code",
      "source": [
        "scores, best_num = kfold_LSTM(5, X_train, X_test, y_train, y_test)"
      ],
      "metadata": {
        "id": "FGrA_tK0CZTb",
        "colab": {
          "base_uri": "https://localhost:8080/"
        },
        "outputId": "4a335349-69d9-4ad5-fc4c-264d4d97ecf5"
      },
      "execution_count": null,
      "outputs": [
        {
          "output_type": "stream",
          "name": "stdout",
          "text": [
            "------------------------------------------------------------------------\n",
            "Training for fold 1 ...\n",
            "Epoch 1/20\n",
            "3/3 [==============================] - 3s 185ms/step - loss: 0.6924 - accuracy: 0.5494\n",
            "Epoch 2/20\n",
            "3/3 [==============================] - 1s 185ms/step - loss: 0.6915 - accuracy: 0.5408\n",
            "Epoch 3/20\n",
            "3/3 [==============================] - 1s 188ms/step - loss: 0.6896 - accuracy: 0.5536\n",
            "Epoch 4/20\n",
            "3/3 [==============================] - 1s 185ms/step - loss: 0.6859 - accuracy: 0.5622\n",
            "Epoch 5/20\n",
            "3/3 [==============================] - 1s 193ms/step - loss: 0.6860 - accuracy: 0.5708\n",
            "Epoch 6/20\n",
            "3/3 [==============================] - 1s 197ms/step - loss: 0.6826 - accuracy: 0.5665\n",
            "Epoch 7/20\n",
            "3/3 [==============================] - 1s 179ms/step - loss: 0.6797 - accuracy: 0.5622\n",
            "Epoch 8/20\n",
            "3/3 [==============================] - 1s 185ms/step - loss: 0.6780 - accuracy: 0.5494\n",
            "Epoch 9/20\n",
            "3/3 [==============================] - 1s 184ms/step - loss: 0.6570 - accuracy: 0.6180\n",
            "Epoch 10/20\n",
            "3/3 [==============================] - 1s 177ms/step - loss: 0.6120 - accuracy: 0.6738\n",
            "Epoch 11/20\n",
            "3/3 [==============================] - 1s 194ms/step - loss: 0.3705 - accuracy: 0.8412\n",
            "Epoch 12/20\n",
            "3/3 [==============================] - 1s 190ms/step - loss: 0.2898 - accuracy: 0.9227\n",
            "Epoch 13/20\n",
            "3/3 [==============================] - 1s 169ms/step - loss: 0.1005 - accuracy: 0.9785\n",
            "Epoch 14/20\n",
            "3/3 [==============================] - 1s 172ms/step - loss: 0.2033 - accuracy: 0.9571\n",
            "Epoch 15/20\n",
            "3/3 [==============================] - 1s 182ms/step - loss: 0.4013 - accuracy: 0.8970\n",
            "Epoch 16/20\n",
            "3/3 [==============================] - 1s 188ms/step - loss: 0.2583 - accuracy: 0.9270\n",
            "1/1 [==============================] - 1s 633ms/step - loss: 0.2820 - accuracy: 0.9041\n",
            "------------------------------------------------------------------------\n",
            "Training for fold 2 ...\n",
            "Epoch 1/20\n",
            "3/3 [==============================] - 3s 191ms/step - loss: 0.6949 - accuracy: 0.4678\n",
            "Epoch 2/20\n",
            "3/3 [==============================] - 1s 184ms/step - loss: 0.6925 - accuracy: 0.5494\n",
            "Epoch 3/20\n",
            "3/3 [==============================] - 1s 188ms/step - loss: 0.6916 - accuracy: 0.5408\n",
            "Epoch 4/20\n",
            "3/3 [==============================] - 1s 185ms/step - loss: 0.6908 - accuracy: 0.5451\n",
            "Epoch 5/20\n",
            "3/3 [==============================] - 1s 176ms/step - loss: 0.6889 - accuracy: 0.5579\n",
            "Epoch 6/20\n",
            "3/3 [==============================] - 1s 184ms/step - loss: 0.6886 - accuracy: 0.5536\n",
            "Epoch 7/20\n",
            "3/3 [==============================] - 1s 188ms/step - loss: 0.6868 - accuracy: 0.5579\n",
            "Epoch 8/20\n",
            "3/3 [==============================] - 1s 194ms/step - loss: 0.6803 - accuracy: 0.5665\n",
            "Epoch 9/20\n",
            "3/3 [==============================] - 1s 198ms/step - loss: 0.6753 - accuracy: 0.5536\n",
            "Epoch 10/20\n",
            "3/3 [==============================] - 1s 197ms/step - loss: 0.6359 - accuracy: 0.6309\n",
            "Epoch 11/20\n",
            "3/3 [==============================] - 1s 198ms/step - loss: 0.4065 - accuracy: 0.8755\n",
            "Epoch 12/20\n",
            "3/3 [==============================] - 1s 198ms/step - loss: 0.2351 - accuracy: 0.9270\n",
            "Epoch 13/20\n",
            "3/3 [==============================] - 1s 178ms/step - loss: 0.1221 - accuracy: 0.9785\n",
            "Epoch 14/20\n",
            "3/3 [==============================] - 1s 175ms/step - loss: 0.3088 - accuracy: 0.9442\n",
            "Epoch 15/20\n",
            "3/3 [==============================] - 1s 193ms/step - loss: 0.4526 - accuracy: 0.9099\n",
            "Epoch 16/20\n",
            "3/3 [==============================] - 1s 180ms/step - loss: 0.4522 - accuracy: 0.8798\n",
            "1/1 [==============================] - 1s 735ms/step - loss: 1.0447 - accuracy: 0.6164\n",
            "------------------------------------------------------------------------\n",
            "Training for fold 3 ...\n",
            "Epoch 1/20\n",
            "3/3 [==============================] - 3s 189ms/step - loss: 0.6929 - accuracy: 0.5171\n",
            "Epoch 2/20\n",
            "3/3 [==============================] - 1s 199ms/step - loss: 0.6927 - accuracy: 0.5085\n",
            "Epoch 3/20\n",
            "3/3 [==============================] - 1s 202ms/step - loss: 0.6893 - accuracy: 0.5556\n",
            "Epoch 4/20\n",
            "3/3 [==============================] - 1s 204ms/step - loss: 0.6883 - accuracy: 0.5769\n",
            "Epoch 5/20\n",
            "3/3 [==============================] - 1s 208ms/step - loss: 0.6833 - accuracy: 0.5470\n",
            "Epoch 6/20\n",
            "3/3 [==============================] - 1s 176ms/step - loss: 0.6780 - accuracy: 0.5598\n",
            "Epoch 7/20\n",
            "3/3 [==============================] - 1s 171ms/step - loss: 0.6649 - accuracy: 0.5726\n",
            "Epoch 8/20\n",
            "3/3 [==============================] - 1s 177ms/step - loss: 0.6105 - accuracy: 0.5726\n",
            "Epoch 9/20\n",
            "3/3 [==============================] - 1s 430ms/step - loss: 0.5492 - accuracy: 0.7863\n",
            "Epoch 10/20\n",
            "3/3 [==============================] - 1s 199ms/step - loss: 0.5816 - accuracy: 0.6880\n",
            "Epoch 11/20\n",
            "3/3 [==============================] - 1s 328ms/step - loss: 0.4173 - accuracy: 0.8632\n",
            "Epoch 12/20\n",
            "3/3 [==============================] - 1s 195ms/step - loss: 0.4024 - accuracy: 0.8974\n",
            "Epoch 13/20\n",
            "3/3 [==============================] - 1s 185ms/step - loss: 0.3499 - accuracy: 0.8590\n",
            "Epoch 14/20\n",
            "3/3 [==============================] - 1s 171ms/step - loss: 0.1460 - accuracy: 0.9658\n",
            "Epoch 15/20\n",
            "3/3 [==============================] - 1s 181ms/step - loss: 0.1384 - accuracy: 0.9829\n",
            "Epoch 16/20\n",
            "3/3 [==============================] - 1s 175ms/step - loss: 0.1184 - accuracy: 0.9829\n",
            "Epoch 17/20\n",
            "3/3 [==============================] - 1s 198ms/step - loss: 0.0767 - accuracy: 0.9872\n",
            "Epoch 18/20\n",
            "3/3 [==============================] - 1s 200ms/step - loss: 0.0584 - accuracy: 0.9915\n",
            "Epoch 19/20\n",
            "3/3 [==============================] - 1s 207ms/step - loss: 0.0494 - accuracy: 0.9915\n",
            "Epoch 20/20\n",
            "3/3 [==============================] - 1s 192ms/step - loss: 0.0558 - accuracy: 0.9915\n",
            "1/1 [==============================] - 1s 880ms/step - loss: 0.0781 - accuracy: 0.9863\n",
            "------------------------------------------------------------------------\n",
            "Training for fold 4 ...\n",
            "Epoch 1/20\n",
            "3/3 [==============================] - 3s 179ms/step - loss: 0.6932 - accuracy: 0.4658\n",
            "Epoch 2/20\n",
            "3/3 [==============================] - 1s 180ms/step - loss: 0.6937 - accuracy: 0.4658\n",
            "Epoch 3/20\n",
            "3/3 [==============================] - 1s 190ms/step - loss: 0.6906 - accuracy: 0.5769\n",
            "Epoch 4/20\n",
            "3/3 [==============================] - 1s 192ms/step - loss: 0.6918 - accuracy: 0.5385\n",
            "Epoch 5/20\n",
            "3/3 [==============================] - 1s 188ms/step - loss: 0.6925 - accuracy: 0.5427\n",
            "Epoch 6/20\n",
            "3/3 [==============================] - 1s 188ms/step - loss: 0.6889 - accuracy: 0.5470\n",
            "Epoch 7/20\n",
            "3/3 [==============================] - 1s 178ms/step - loss: 0.6877 - accuracy: 0.5812\n",
            "Epoch 8/20\n",
            "3/3 [==============================] - 1s 188ms/step - loss: 0.6864 - accuracy: 0.5769\n",
            "Epoch 9/20\n",
            "3/3 [==============================] - 1s 174ms/step - loss: 0.6832 - accuracy: 0.5726\n",
            "Epoch 10/20\n",
            "3/3 [==============================] - 1s 176ms/step - loss: 0.6781 - accuracy: 0.5641\n",
            "Epoch 11/20\n",
            "3/3 [==============================] - 1s 174ms/step - loss: 0.6505 - accuracy: 0.6197\n",
            "Epoch 12/20\n",
            "3/3 [==============================] - 1s 174ms/step - loss: 0.5040 - accuracy: 0.8248\n",
            "Epoch 13/20\n",
            "3/3 [==============================] - 1s 175ms/step - loss: 0.3628 - accuracy: 0.8675\n",
            "Epoch 14/20\n",
            "3/3 [==============================] - 1s 199ms/step - loss: 0.2017 - accuracy: 0.9487\n",
            "Epoch 15/20\n",
            "3/3 [==============================] - 1s 190ms/step - loss: 0.1017 - accuracy: 0.9786\n",
            "Epoch 16/20\n",
            "3/3 [==============================] - 1s 166ms/step - loss: 0.0582 - accuracy: 0.9915\n",
            "Epoch 17/20\n",
            "3/3 [==============================] - 1s 170ms/step - loss: 0.0149 - accuracy: 1.0000\n",
            "Epoch 18/20\n",
            "3/3 [==============================] - 1s 177ms/step - loss: 0.0085 - accuracy: 1.0000\n",
            "Epoch 19/20\n",
            "3/3 [==============================] - 1s 188ms/step - loss: 0.0050 - accuracy: 1.0000\n",
            "Epoch 20/20\n",
            "3/3 [==============================] - 1s 188ms/step - loss: 0.0037 - accuracy: 1.0000\n",
            "1/1 [==============================] - 1s 674ms/step - loss: 0.0860 - accuracy: 0.9863\n",
            "------------------------------------------------------------------------\n",
            "Training for fold 5 ...\n",
            "Epoch 1/20\n",
            "3/3 [==============================] - 3s 203ms/step - loss: 0.6939 - accuracy: 0.5513\n",
            "Epoch 2/20\n",
            "3/3 [==============================] - 1s 187ms/step - loss: 0.6910 - accuracy: 0.5513\n",
            "Epoch 3/20\n",
            "3/3 [==============================] - 1s 186ms/step - loss: 0.6931 - accuracy: 0.5513\n",
            "Epoch 4/20\n",
            "3/3 [==============================] - 1s 196ms/step - loss: 0.6902 - accuracy: 0.5641\n",
            "Epoch 5/20\n",
            "3/3 [==============================] - 1s 190ms/step - loss: 0.6898 - accuracy: 0.5726\n",
            "Epoch 6/20\n",
            "3/3 [==============================] - 1s 193ms/step - loss: 0.6879 - accuracy: 0.5726\n",
            "Epoch 7/20\n",
            "3/3 [==============================] - 1s 414ms/step - loss: 0.6870 - accuracy: 0.5726\n",
            "Epoch 8/20\n",
            "3/3 [==============================] - 1s 225ms/step - loss: 0.6845 - accuracy: 0.5726\n",
            "Epoch 9/20\n",
            "3/3 [==============================] - 1s 267ms/step - loss: 0.6827 - accuracy: 0.5726\n",
            "Epoch 10/20\n",
            "3/3 [==============================] - 1s 189ms/step - loss: 0.6762 - accuracy: 0.5769\n",
            "Epoch 11/20\n",
            "3/3 [==============================] - 1s 169ms/step - loss: 0.6443 - accuracy: 0.6154\n",
            "Epoch 12/20\n",
            "3/3 [==============================] - 1s 205ms/step - loss: 0.5515 - accuracy: 0.8077\n",
            "Epoch 13/20\n",
            "3/3 [==============================] - 1s 213ms/step - loss: 0.3905 - accuracy: 0.8932\n",
            "Epoch 14/20\n",
            "3/3 [==============================] - 1s 187ms/step - loss: 0.2760 - accuracy: 0.9487\n",
            "Epoch 15/20\n",
            "3/3 [==============================] - 1s 188ms/step - loss: 0.2290 - accuracy: 0.9316\n",
            "Epoch 16/20\n",
            "3/3 [==============================] - 1s 198ms/step - loss: 0.0966 - accuracy: 0.9786\n",
            "Epoch 17/20\n",
            "3/3 [==============================] - 1s 169ms/step - loss: 0.0745 - accuracy: 0.9872\n",
            "Epoch 18/20\n",
            "3/3 [==============================] - 1s 185ms/step - loss: 0.0310 - accuracy: 0.9957\n",
            "Epoch 19/20\n",
            "3/3 [==============================] - 1s 180ms/step - loss: 0.0333 - accuracy: 0.9957\n",
            "Epoch 20/20\n",
            "3/3 [==============================] - 1s 194ms/step - loss: 0.0551 - accuracy: 0.9915\n",
            "1/1 [==============================] - 1s 756ms/step - loss: 0.2393 - accuracy: 0.9589\n"
          ]
        }
      ]
    },
    {
      "cell_type": "code",
      "source": [
        "scores, best_num"
      ],
      "metadata": {
        "colab": {
          "base_uri": "https://localhost:8080/"
        },
        "id": "XR-89f5Z82l2",
        "outputId": "de31a4f7-10c0-40c5-8472-31966ae827ed"
      },
      "execution_count": null,
      "outputs": [
        {
          "output_type": "execute_result",
          "data": {
            "text/plain": [
              "([0,\n",
              "  0.9041095972061157,\n",
              "  0.6164383292198181,\n",
              "  0.9863013625144958,\n",
              "  0.9863013625144958,\n",
              "  0.9589040875434875],\n",
              " 4)"
            ]
          },
          "metadata": {},
          "execution_count": 72
        }
      ]
    },
    {
      "cell_type": "code",
      "source": [
        "# 정확도 80 이상인 모델만\n",
        "good_scores = [idx for idx, val in enumerate(scores) if val >= 0.8]\n",
        "good_scores"
      ],
      "metadata": {
        "id": "1SHRxv7WF-OP",
        "colab": {
          "base_uri": "https://localhost:8080/"
        },
        "outputId": "4b2e281f-e25b-4a1d-946e-5e21e772f0de"
      },
      "execution_count": null,
      "outputs": [
        {
          "output_type": "execute_result",
          "data": {
            "text/plain": [
              "[1, 3, 4, 5]"
            ]
          },
          "metadata": {},
          "execution_count": 73
        }
      ]
    },
    {
      "cell_type": "markdown",
      "source": [
        "# 테스트"
      ],
      "metadata": {
        "id": "rzqz2ZW4F_k8"
      }
    },
    {
      "cell_type": "code",
      "source": [
        "# 텍스트 입력값을 정수 인코딩된 벡터로 변환\n",
        "def make_test(text):\n",
        "  test = preprocessing(text, okt, remove_stopwords=True, stop_words=stop_words)\n",
        "  tokenizer=Tokenizer()\n",
        "  tokenizer.fit_on_texts(clean_text)\n",
        "  test_s = tokenizer.texts_to_sequences(test)\n",
        "  test_s = [x[0] for x in test_s if x != []]\n",
        "  test_input = pad_sequences([test_s], maxlen=MAX_SEQUENCE_LENGTH, padding='post')\n",
        "  return test_input\n",
        "\n",
        "# best model에 새로운 텍스트를 넣어 피싱 확률 출력\n",
        "def phising_pred(text, best_num):\n",
        "  test_input = make_test(text)\n",
        "  model = load_model('kfold_'+str(best_num)+'_model.h5')\n",
        "  prediction = model.predict(test_input)[0][1]\n",
        "  print('피싱일 확률은','{:.2%}'.format(prediction),'입니다.')\n",
        "\n",
        "# best model 5개 모두에 새로운 텍스트를 넣고 그 결과를 평균 내어 출력 -> 해당 함수로 출력 수행\n",
        "def all_pred(text, k):\n",
        "  test_input = make_test(text)\n",
        "  preds = []\n",
        "  for i in range(1,k+1):\n",
        "    model = load_model('kfold_'+str(i)+'_model.h5')\n",
        "    prediction = model.predict(test_input)[0][1]\n",
        "    preds.append(prediction)\n",
        "  pred_mean = np.mean(preds)\n",
        "  print('피싱일 확률은','{:.2%}'.format(pred_mean),'입니다.')\n",
        "\n",
        "# 정확도가 80 이상인 모델만 예측에 사용\n",
        "def better_pred(text, scores):\n",
        "  test_input = make_test(text)\n",
        "  preds = []\n",
        "  for i in scores:\n",
        "    model = load_model('kfold_'+str(i)+'_model.h5')\n",
        "    prediction = model.predict(test_input)[0][1]\n",
        "    preds.append(prediction)\n",
        "  pred_mean = np.mean(preds)\n",
        "  print('피싱일 확률은','{:.2%}'.format(pred_mean),'입니다.')"
      ],
      "metadata": {
        "id": "xnUGMKYZFH9h"
      },
      "execution_count": null,
      "outputs": []
    },
    {
      "cell_type": "code",
      "source": [
        "print(model.summary())"
      ],
      "metadata": {
        "colab": {
          "base_uri": "https://localhost:8080/"
        },
        "id": "_aviUzNrbFNj",
        "outputId": "d6823018-5db4-406f-ad22-ad7a356efdfb"
      },
      "execution_count": null,
      "outputs": [
        {
          "output_type": "stream",
          "name": "stdout",
          "text": [
            "Model: \"sequential_3\"\n",
            "_________________________________________________________________\n",
            " Layer (type)                Output Shape              Param #   \n",
            "=================================================================\n",
            " embedding_3 (Embedding)     (None, None, 100)         252800    \n",
            "                                                                 \n",
            " lstm_3 (LSTM)               (None, 100)               80400     \n",
            "                                                                 \n",
            " dropout_3 (Dropout)         (None, 100)               0         \n",
            "                                                                 \n",
            " dense_6 (Dense)             (None, 32)                3232      \n",
            "                                                                 \n",
            " dense_7 (Dense)             (None, 2)                 66        \n",
            "                                                                 \n",
            "=================================================================\n",
            "Total params: 336,498\n",
            "Trainable params: 336,498\n",
            "Non-trainable params: 0\n",
            "_________________________________________________________________\n",
            "None\n"
          ]
        }
      ]
    },
    {
      "cell_type": "code",
      "source": [
        "def one_pred(text):\n",
        "  test_input = make_test(text)\n",
        "  model = load_model('/content/drive/MyDrive/Colab Notebooks/캡스톤 디자인/kfold_model.h5')\n",
        "  prediction = model.predict(test_input)[0][1]\n",
        "  print('피싱일 확률은','{:.2%}'.format(prediction),'입니다.')"
      ],
      "metadata": {
        "id": "s6SWXmhcbcTR"
      },
      "execution_count": null,
      "outputs": []
    },
    {
      "cell_type": "code",
      "source": [
        "test = '카페에 모여서 핸드폰 보고 있어요'\n",
        "one_pred(test)"
      ],
      "metadata": {
        "colab": {
          "base_uri": "https://localhost:8080/"
        },
        "id": "1QQbCO30b4F6",
        "outputId": "a879ab28-d6ad-47f6-9e14-581a75cc515d"
      },
      "execution_count": null,
      "outputs": [
        {
          "output_type": "stream",
          "name": "stdout",
          "text": [
            "피싱일 확률은 1.36% 입니다.\n"
          ]
        }
      ]
    },
    {
      "cell_type": "code",
      "source": [
        "test = '아까 밥 먹은 돈 좀 늦게 보내줘도 될까? 일단 너 계좌 보내줘'\n",
        "one_pred(test)"
      ],
      "metadata": {
        "colab": {
          "base_uri": "https://localhost:8080/"
        },
        "id": "B0zC3348b4Uv",
        "outputId": "a57b6261-4633-468e-b296-baaa3fab2f03"
      },
      "execution_count": null,
      "outputs": [
        {
          "output_type": "stream",
          "name": "stdout",
          "text": [
            "피싱일 확률은 1.36% 입니다.\n"
          ]
        }
      ]
    },
    {
      "cell_type": "code",
      "source": [
        "test = '아빠 바빠? 나 지금 전화는 안돼 근데 나 급히 부탁이 있는데 인터넷 뱅킹 가능해?'\n",
        "one_pred(test)"
      ],
      "metadata": {
        "colab": {
          "base_uri": "https://localhost:8080/"
        },
        "id": "HRmbNhQgcOB8",
        "outputId": "ad439bac-8de1-4e7a-d178-9c167b16c41e"
      },
      "execution_count": null,
      "outputs": [
        {
          "output_type": "stream",
          "name": "stdout",
          "text": [
            "피싱일 확률은 1.36% 입니다.\n"
          ]
        }
      ]
    },
    {
      "cell_type": "code",
      "source": [
        "test = '카페에 모여서 핸드폰 보고 있어요'\n",
        "all_pred(test, 5)"
      ],
      "metadata": {
        "colab": {
          "base_uri": "https://localhost:8080/"
        },
        "id": "unKMJWI-nSCu",
        "outputId": "f8fc4d0c-8368-4095-d239-7565c5da0ab2"
      },
      "execution_count": null,
      "outputs": [
        {
          "output_type": "stream",
          "name": "stdout",
          "text": [
            "피싱일 확률은 20.45% 입니다.\n"
          ]
        }
      ]
    },
    {
      "cell_type": "code",
      "source": [
        "test = '아까 밥 먹은 돈 좀 늦게 보내줘도 될까? 일단 너 계좌 보내줘'\n",
        "all_pred(test, 5)"
      ],
      "metadata": {
        "colab": {
          "base_uri": "https://localhost:8080/"
        },
        "id": "ISiiuvNSoqJX",
        "outputId": "98605acb-7f60-4165-ddc4-313a44c22775"
      },
      "execution_count": null,
      "outputs": [
        {
          "output_type": "stream",
          "name": "stdout",
          "text": [
            "피싱일 확률은 40.36% 입니다.\n"
          ]
        }
      ]
    },
    {
      "cell_type": "code",
      "source": [
        "test = '엄마 나 핸드폰 액정 깨져서 수리 맡겼어 근데 돈 있으면 나 문화상품권 50만원어치만 사다 줄 수 있어?'\n",
        "all_pred(test, 5)"
      ],
      "metadata": {
        "colab": {
          "base_uri": "https://localhost:8080/"
        },
        "id": "Ajr1HyP8oqTz",
        "outputId": "b235fc0f-ec6f-49bb-c52f-d82bd8208005"
      },
      "execution_count": null,
      "outputs": [
        {
          "output_type": "stream",
          "name": "stdout",
          "text": [
            "피싱일 확률은 97.98% 입니다.\n"
          ]
        }
      ]
    },
    {
      "cell_type": "code",
      "source": [
        "test = '언니 나 급하게 친구한테 보내줘야 할 돈이 있는데 대신 이체 가능해? 근데 금액은 좀 커'\n",
        "all_pred(test, 5)"
      ],
      "metadata": {
        "colab": {
          "base_uri": "https://localhost:8080/"
        },
        "id": "ZeOCmNxJDVZl",
        "outputId": "8405d66a-8a67-4458-fcd9-5473f37044c4"
      },
      "execution_count": null,
      "outputs": [
        {
          "output_type": "stream",
          "name": "stdout",
          "text": [
            "피싱일 확률은 79.99% 입니다.\n"
          ]
        }
      ]
    },
    {
      "cell_type": "code",
      "source": [
        "test = '아빠 바빠? 나 지금 전화는 안돼 근데 나 급히 부탁이 있는데 인터넷 뱅킹 가능해?'\n",
        "all_pred(test, 5)"
      ],
      "metadata": {
        "colab": {
          "base_uri": "https://localhost:8080/"
        },
        "id": "7S3fXJ6pDjLD",
        "outputId": "9af77a80-02dd-4e64-95e0-a2bf5e574c42"
      },
      "execution_count": null,
      "outputs": [
        {
          "output_type": "stream",
          "name": "stdout",
          "text": [
            "피싱일 확률은 79.98% 입니다.\n"
          ]
        }
      ]
    },
    {
      "cell_type": "code",
      "source": [
        "test = '엄마 뭐해 나 폰이 고장나서 수리 맡기고 컴퓨터로 카톡 중이야 근데 엄마 신한카드 있으면 그걸로 문화상품권 대신 구매해줄 수 있어?'\n",
        "all_pred(test, 5)"
      ],
      "metadata": {
        "colab": {
          "base_uri": "https://localhost:8080/"
        },
        "id": "N85g0QhcFgrN",
        "outputId": "625a2ba8-7adf-4e84-809c-e337ccfae609"
      },
      "execution_count": null,
      "outputs": [
        {
          "output_type": "stream",
          "name": "stdout",
          "text": [
            "피싱일 확률은 97.98% 입니다.\n"
          ]
        }
      ]
    },
    {
      "cell_type": "code",
      "source": [
        "test = '머빈아 이따가 정종인이랑 국밥 먹으러 갈래?'\n",
        "all_pred(test, 5)"
      ],
      "metadata": {
        "colab": {
          "base_uri": "https://localhost:8080/"
        },
        "id": "8xQY79wF4QoQ",
        "outputId": "ba3d82a0-edf2-4b44-a966-e1ed03d597e8"
      },
      "execution_count": null,
      "outputs": [
        {
          "output_type": "stream",
          "name": "stdout",
          "text": [
            "피싱일 확률은 20.45% 입니다.\n"
          ]
        }
      ]
    },
    {
      "cell_type": "markdown",
      "source": [
        "# 추가 함수 code"
      ],
      "metadata": {
        "id": "2B_Pyvw90WHU"
      }
    },
    {
      "cell_type": "markdown",
      "source": [
        "## k-fold 정확도 출력"
      ],
      "metadata": {
        "id": "SAfgONCV0q16"
      }
    },
    {
      "cell_type": "code",
      "source": [
        "# k-fold cross validation 테스트 평균 정확도\n",
        "def final_acc(k, scores):\n",
        "  phising_predict = sum(scores[1:])/k\n",
        "  print('final accuracy :', '{:.2f}%'.format(phising_predict*100))"
      ],
      "metadata": {
        "id": "-RkqEqffx34B"
      },
      "execution_count": null,
      "outputs": []
    },
    {
      "cell_type": "code",
      "source": [
        "final_acc(5, scores)"
      ],
      "metadata": {
        "id": "2AkCCps2BX9x"
      },
      "execution_count": null,
      "outputs": []
    },
    {
      "cell_type": "markdown",
      "source": [
        "## 피싱 채팅, 의심 채팅, 친구가 아닌 채팅 개수 출력"
      ],
      "metadata": {
        "id": "2T9mNtXIt2Za"
      }
    },
    {
      "cell_type": "code",
      "source": [
        "# 초기값 설정\n",
        "normal_cnt = 0\n",
        "phising_cnt = 0\n",
        "not_friend_cnt = 0\n",
        "friends = ['서현', '수빈', '다혜', '성식'] # 저장된 상대 이름 list\n",
        "not_friends = []\n",
        "phising_text = dict()\n",
        "\n",
        "# 피싱 확률 출력 함수\n",
        "def pred_prob(test, scores):\n",
        "  preds = []\n",
        "  for i in scores:\n",
        "    model = load_model('kfold_'+str(i)+'_model.h5')\n",
        "    prediction = model.predict(test)[0][1]\n",
        "    preds.append(prediction)\n",
        "  pred_mean = np.mean(preds)\n",
        "  return pred_mean\n",
        "\n",
        "# 가중치 부여 피싱 확률 출력 함수 - 안쓸듯\n",
        "def pred_prob2(test):\n",
        "  good_preds = []\n",
        "  bad_preds = []\n",
        "  for i in range(1,6):\n",
        "    model = load_model('kfold_'+str(i)+'_model.h5')\n",
        "    if i in good_scores:\n",
        "      good_preds.append(model.predict(test)[0][1])\n",
        "    else:\n",
        "      bad_preds.append(model.predict(test)[0][1])\n",
        "  pred_mean = np.mean(good_preds)*0.8 + np.mean(bad_preds)*0.2\n",
        "  return pred_mean\n",
        "\n",
        "# 카운트 출력 함수\n",
        "def cnt_print():\n",
        "  global normal_cnt\n",
        "  global phising_cnt\n",
        "  global not_friend_cnt\n",
        "\n",
        "  print('[채팅 카운트를 시작합니다.]')\n",
        "  print('[함수를 중지하고 싶으면 채팅 내용에 종료를 입력해주세요. ] \\n')\n",
        "  name = input('상대 이름 : ')\n",
        "  text = input('채팅 내용 : ')\n",
        "  while text != '종료':\n",
        "\n",
        "    test = make_test(text)\n",
        "    prob = pred_prob(test, scores)\n",
        "    if prob > 0.7:\n",
        "      phising_cnt += 1\n",
        "      phising_text[name] = text, prob\n",
        "    else:\n",
        "      normal_cnt += 1\n",
        "\n",
        "    if name not in friends:\n",
        "      not_friend_cnt += 1\n",
        "      not_friends.append(name)\n",
        "\n",
        "    name = input('\\n상대 이름 : ')\n",
        "    text = input('채팅 내용 : ')\n",
        "\n",
        "  if text == '종료':\n",
        "      print('\\n[채팅 카운트를 종료합니다.]')\n",
        "      print('[현재 총 채팅 카운트를 출력합니다.]\\n')\n",
        "      print('정상적인 채팅 : {}건'.format(normal_cnt))\n",
        "      print('피싱 의심 채팅 : {}건'.format(phising_cnt))\n",
        "      if phising_text != dict():\n",
        "        for key in phising_text:\n",
        "          print('-',key,'-')\n",
        "          print('{} / 피싱 확률은 {:.2%}'.format(phising_text[key][0], phising_text[key][1]))\n",
        "      print('친구가 아닌 사용자의 채팅 : {}건'.format(not_friend_cnt))\n",
        "      if not_friends != []:\n",
        "        print('알 수 없는 상대 :',not_friends)"
      ],
      "metadata": {
        "id": "eL06nsCJs2MH"
      },
      "execution_count": null,
      "outputs": []
    },
    {
      "cell_type": "code",
      "source": [
        "test = '어머니 배가 고파서 2만원이 필요합니다 '\n",
        "all_pred(test, 5)"
      ],
      "metadata": {
        "id": "QXOLv-Y81Xtj"
      },
      "execution_count": null,
      "outputs": []
    },
    {
      "cell_type": "code",
      "source": [
        "#cnt_print()"
      ],
      "metadata": {
        "id": "ZIf0k0eOyfU0"
      },
      "execution_count": null,
      "outputs": []
    },
    {
      "cell_type": "code",
      "source": [],
      "metadata": {
        "id": "NsfUz1b02FDM"
      },
      "execution_count": null,
      "outputs": []
    }
  ]
}